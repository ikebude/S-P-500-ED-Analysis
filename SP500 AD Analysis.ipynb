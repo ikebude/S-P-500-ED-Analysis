{
 "cells": [
  {
   "cell_type": "markdown",
   "id": "be83f3a5",
   "metadata": {},
   "source": [
    "# 🚀 Advanced Data Analysis: S&P 500 Companies\n",
    "\n",
    "This notebook build upon the exploratory data analysis (EDA) to uncover more intricate insights. We will employ a variety of techniques including statistical analysis, feature engineering, and advanced visualizations to provide a comprehensive understanding of the dataset.\n",
    "\n",
    "### Topics Covered:\n",
    "\n",
    "1. **Feature Engineering:**\n",
    "   - **Financial Ratios:** Calculation and analysis of financial ratios such as Price-to-Earnings (P/E) Ratio, and others to evaluate the financial health and performance of the companies.\n",
    "   - **Custom Features:** Development of custom features that may not be directly available in the dataset but can be derived from existing data to provide additional insights.\n",
    "\n",
    "2. **Outlier Detection:**\n",
    "   - Identification and treatment of outliers in key financial metrics to ensure the robustness of our analysis.\n",
    "   - Techniques such as the Z-score method, and visualization methods like box plots will be used to detect and handle outliers.\n",
    "\n",
    "3. **Sectoral Financial Comparisons:**\n",
    "   - Comparative analysis of financial performance across different sectors within the S&P 500.\n",
    "   - Use of statistical tests and visualizations to highlight sectoral differences in key metrics like revenue growth, profit margins, and P/E ratios.\n",
    "\n",
    "4. **Clustering Interpretation:**\n",
    "   - Application of clustering algorithms (e.g., K-means, Hierarchical Clustering) to group companies based on their financial characteristics.\n",
    "   - Interpretation of the clusters to understand the underlying patterns and similarities among companies in the S&P 500.\n",
    "\n",
    "5. **Dimensionality Reduction using PCA (Principal Component Analysis):**\n",
    "   - Reduction of the dataset's dimensionality to simplify the analysis while retaining important information.\n",
    "   - Use of PCA to identify the most significant components that explain the variance in the dataset and provide visualizations to interpret these components.\n"
   ]
  },
  {
   "cell_type": "code",
   "execution_count": 1,
   "id": "0c8e0c8c",
   "metadata": {},
   "outputs": [],
   "source": [
    "import pandas as pd\n",
    "import numpy as np\n",
    "import seaborn as sns\n",
    "import matplotlib.pyplot as plt\n",
    "from sklearn.preprocessing import StandardScaler\n",
    "from sklearn.decomposition import PCA\n",
    "from scipy import stats"
   ]
  },
  {
   "cell_type": "code",
   "execution_count": 2,
   "id": "2d129606",
   "metadata": {},
   "outputs": [
    {
     "data": {
      "application/vnd.microsoft.datawrangler.viewer.v0+json": {
       "columns": [
        {
         "name": "index",
         "rawType": "int64",
         "type": "integer"
        },
        {
         "name": "exchange",
         "rawType": "object",
         "type": "string"
        },
        {
         "name": "symbol",
         "rawType": "object",
         "type": "string"
        },
        {
         "name": "shortname",
         "rawType": "object",
         "type": "string"
        },
        {
         "name": "longname",
         "rawType": "object",
         "type": "string"
        },
        {
         "name": "sector",
         "rawType": "object",
         "type": "string"
        },
        {
         "name": "industry",
         "rawType": "object",
         "type": "string"
        },
        {
         "name": "currentprice",
         "rawType": "float64",
         "type": "float"
        },
        {
         "name": "marketcap",
         "rawType": "int64",
         "type": "integer"
        },
        {
         "name": "ebitda",
         "rawType": "float64",
         "type": "float"
        },
        {
         "name": "is_bank",
         "rawType": "int64",
         "type": "integer"
        },
        {
         "name": "ebitda_clean",
         "rawType": "float64",
         "type": "float"
        },
        {
         "name": "revenuegrowth",
         "rawType": "float64",
         "type": "float"
        },
        {
         "name": "city",
         "rawType": "object",
         "type": "string"
        },
        {
         "name": "state",
         "rawType": "object",
         "type": "string"
        },
        {
         "name": "country",
         "rawType": "object",
         "type": "string"
        },
        {
         "name": "fulltimeemployees",
         "rawType": "int64",
         "type": "integer"
        },
        {
         "name": "longbusinesssummary",
         "rawType": "object",
         "type": "string"
        },
        {
         "name": "weight",
         "rawType": "float64",
         "type": "float"
        }
       ],
       "ref": "02dea98c-2cc6-4830-9a9f-0b7be4e6f1f2",
       "rows": [
        [
         "0",
         "NMS",
         "AAPL",
         "Apple Inc.",
         "Apple Inc.",
         "Technology",
         "Consumer Electronics",
         "254.49",
         "3846819807232",
         "134660997120.0",
         "0",
         "134660997120.0",
         "0.061",
         "Cupertino",
         "CA",
         "United States",
         "164000",
         "Apple Inc. designs, manufactures, and markets smartphones, personal computers, tablets, wearables, and accessories worldwide. The company offers iPhone, a line of smartphones; Mac, a line of personal computers; iPad, a line of multi-purpose tablets; and wearables, home, and accessories comprising AirPods, Apple TV, Apple Watch, Beats products, and HomePod. It also provides AppleCare support and cloud services; and operates various platforms, including the App Store that allow customers to discover and download applications and digital content, such as books, music, video, games, and podcasts, as well as advertising services include third-party licensing arrangements and its own advertising platforms. In addition, the company offers various subscription-based services, such as Apple Arcade, a game subscription service; Apple Fitness+, a personalized fitness service; Apple Music, which offers users a curated listening experience with on-demand radio stations; Apple News+, a subscription news and magazine service; Apple TV+, which offers exclusive original content; Apple Card, a co-branded credit card; and Apple Pay, a cashless payment service, as well as licenses its intellectual property. The company serves consumers, and small and mid-sized businesses; and the education, enterprise, and government markets. It distributes third-party applications for its products through the App Store. The company also sells its products through its retail and online stores, and direct sales force; and third-party cellular network carriers, wholesalers, retailers, and resellers. Apple Inc. was founded in 1976 and is headquartered in Cupertino, California.",
         "0.0692091524397274"
        ],
        [
         "1",
         "NMS",
         "NVDA",
         "NVIDIA Corporation",
         "NVIDIA Corporation",
         "Technology",
         "Semiconductors",
         "134.7",
         "3298803056640",
         "61184000000.0",
         "0",
         "61184000000.0",
         "1.224",
         "Santa Clara",
         "CA",
         "United States",
         "29600",
         "NVIDIA Corporation provides graphics and compute and networking solutions in the United States, Taiwan, China, Hong Kong, and internationally. The Graphics segment offers GeForce GPUs for gaming and PCs, the GeForce NOW game streaming service and related infrastructure, and solutions for gaming platforms; Quadro/NVIDIA RTX GPUs for enterprise workstation graphics; virtual GPU or vGPU software for cloud-based visual and virtual computing; automotive platforms for infotainment systems; and Omniverse software for building and operating metaverse and 3D internet applications. The Compute & Networking segment comprises Data Center computing platforms and end-to-end networking platforms, including Quantum for InfiniBand and Spectrum for Ethernet; NVIDIA DRIVE automated-driving platform and automotive development agreements; Jetson robotics and other embedded platforms; NVIDIA AI Enterprise and other software; and DGX Cloud software and services. The company's products are used in gaming, professional visualization, data center, and automotive markets. It sells its products to original equipment manufacturers, original device manufacturers, system integrators and distributors, independent software vendors, cloud service providers, consumer internet companies, add-in board manufacturers, distributors, automotive manufacturers and tier-1 automotive suppliers, and other ecosystem participants. NVIDIA Corporation was incorporated in 1993 and is headquartered in Santa Clara, California.",
         "0.0593496381573215"
        ],
        [
         "2",
         "NMS",
         "MSFT",
         "Microsoft Corporation",
         "Microsoft Corporation",
         "Technology",
         "Software - Infrastructure",
         "436.6",
         "3246068596736",
         "136551997440.0",
         "0",
         "136551997440.0",
         "0.16",
         "Redmond",
         "WA",
         "United States",
         "228000",
         "Microsoft Corporation develops and supports software, services, devices and solutions worldwide. The Productivity and Business Processes segment offers office, exchange, SharePoint, Microsoft Teams, office 365 Security and Compliance, Microsoft viva, and Microsoft 365 copilot; and office consumer services, such as Microsoft 365 consumer subscriptions, Office licensed on-premises, and other office services. This segment also provides LinkedIn; and dynamics business solutions, including Dynamics 365, a set of intelligent, cloud-based applications across ERP, CRM, power apps, and power automate; and on-premises ERP and CRM applications. The Intelligent Cloud segment offers server products and cloud services, such as azure and other cloud services; SQL and windows server, visual studio, system center, and related client access licenses, as well as nuance and GitHub; and enterprise services including enterprise support services, industry solutions, and nuance professional services. The More Personal Computing segment offers Windows, including windows OEM licensing and other non-volume licensing of the Windows operating system; Windows commercial comprising volume licensing of the Windows operating system, windows cloud services, and other Windows commercial offerings; patent licensing; and windows Internet of Things; and devices, such as surface, HoloLens, and PC accessories. Additionally, this segment provides gaming, which includes Xbox hardware and content, and first- and third-party content; Xbox game pass and other subscriptions, cloud gaming, advertising, third-party disc royalties, and other cloud services; and search and news advertising, which includes Bing, Microsoft News and Edge, and third-party affiliates. The company sells its products through OEMs, distributors, and resellers; and directly through digital marketplaces, online, and retail stores. The company was founded in 1975 and is headquartered in Redmond, Washington.",
         "0.0584008785436112"
        ],
        [
         "3",
         "NMS",
         "AMZN",
         "Amazon.com, Inc.",
         "Amazon.com, Inc.",
         "Consumer Cyclical",
         "Internet Retail",
         "224.92",
         "2365033807872",
         "111583002624.0",
         "0",
         "111583002624.0",
         "0.11",
         "Seattle",
         "WA",
         "United States",
         "1551000",
         "Amazon.com, Inc. engages in the retail sale of consumer products, advertising, and subscriptions service through online and physical stores in North America and internationally. The company operates through three segments: North America, International, and Amazon Web Services (AWS). It also manufactures and sells electronic devices, including Kindle, Fire tablets, Fire TVs, Echo, Ring, Blink, and eero; and develops and produces media content. In addition, the company offers programs that enable sellers to sell their products in its stores; and programs that allow authors, independent publishers, musicians, filmmakers, Twitch streamers, skill and app developers, and others to publish and sell content. Further, it provides compute, storage, database, analytics, machine learning, and other services, as well as advertising services through programs, such as sponsored ads, display, and video advertising. Additionally, the company offers Amazon Prime, a membership program. The company's products offered through its stores include merchandise and content purchased for resale and products offered by third-party sellers. It serves consumers, sellers, developers, enterprises, content creators, advertisers, and employees. Amazon.com, Inc. was incorporated in 1994 and is headquartered in Seattle, Washington.",
         "0.0425499486683522"
        ],
        [
         "4",
         "NMS",
         "GOOGL",
         "Alphabet Inc.",
         "Alphabet Inc.",
         "Communication Services",
         "Internet Content & Information",
         "191.41",
         "2351625142272",
         "123469996032.0",
         "0",
         "123469996032.0",
         "0.151",
         "Mountain View",
         "CA",
         "United States",
         "181269",
         "Alphabet Inc. offers various products and platforms in the United States, Europe, the Middle East, Africa, the Asia-Pacific, Canada, and Latin America. It operates through Google Services, Google Cloud, and Other Bets segments. The Google Services segment provides products and services, including ads, Android, Chrome, devices, Gmail, Google Drive, Google Maps, Google Photos, Google Play, Search, and YouTube. It is also involved in the sale of apps and in-app purchases and digital content in the Google Play and YouTube; and devices, as well as in the provision of YouTube consumer subscription services. The Google Cloud segment offers infrastructure, cybersecurity, databases, analytics, AI, and other services; Google Workspace that include cloud-based communication and collaboration tools for enterprises, such as Gmail, Docs, Drive, Calendar, and Meet; and other services for enterprise customers. The Other Bets segment sells healthcare-related and internet services. The company was incorporated in 1998 and is headquartered in Mountain View, California.",
         "0.0423087098196338"
        ]
       ],
       "shape": {
        "columns": 18,
        "rows": 5
       }
      },
      "text/html": [
       "<div>\n",
       "<style scoped>\n",
       "    .dataframe tbody tr th:only-of-type {\n",
       "        vertical-align: middle;\n",
       "    }\n",
       "\n",
       "    .dataframe tbody tr th {\n",
       "        vertical-align: top;\n",
       "    }\n",
       "\n",
       "    .dataframe thead th {\n",
       "        text-align: right;\n",
       "    }\n",
       "</style>\n",
       "<table border=\"1\" class=\"dataframe\">\n",
       "  <thead>\n",
       "    <tr style=\"text-align: right;\">\n",
       "      <th></th>\n",
       "      <th>exchange</th>\n",
       "      <th>symbol</th>\n",
       "      <th>shortname</th>\n",
       "      <th>longname</th>\n",
       "      <th>sector</th>\n",
       "      <th>industry</th>\n",
       "      <th>currentprice</th>\n",
       "      <th>marketcap</th>\n",
       "      <th>ebitda</th>\n",
       "      <th>is_bank</th>\n",
       "      <th>ebitda_clean</th>\n",
       "      <th>revenuegrowth</th>\n",
       "      <th>city</th>\n",
       "      <th>state</th>\n",
       "      <th>country</th>\n",
       "      <th>fulltimeemployees</th>\n",
       "      <th>longbusinesssummary</th>\n",
       "      <th>weight</th>\n",
       "    </tr>\n",
       "  </thead>\n",
       "  <tbody>\n",
       "    <tr>\n",
       "      <th>0</th>\n",
       "      <td>NMS</td>\n",
       "      <td>AAPL</td>\n",
       "      <td>Apple Inc.</td>\n",
       "      <td>Apple Inc.</td>\n",
       "      <td>Technology</td>\n",
       "      <td>Consumer Electronics</td>\n",
       "      <td>254.49</td>\n",
       "      <td>3846819807232</td>\n",
       "      <td>1.346610e+11</td>\n",
       "      <td>0</td>\n",
       "      <td>1.346610e+11</td>\n",
       "      <td>0.061</td>\n",
       "      <td>Cupertino</td>\n",
       "      <td>CA</td>\n",
       "      <td>United States</td>\n",
       "      <td>164000</td>\n",
       "      <td>Apple Inc. designs, manufactures, and markets ...</td>\n",
       "      <td>0.069209</td>\n",
       "    </tr>\n",
       "    <tr>\n",
       "      <th>1</th>\n",
       "      <td>NMS</td>\n",
       "      <td>NVDA</td>\n",
       "      <td>NVIDIA Corporation</td>\n",
       "      <td>NVIDIA Corporation</td>\n",
       "      <td>Technology</td>\n",
       "      <td>Semiconductors</td>\n",
       "      <td>134.70</td>\n",
       "      <td>3298803056640</td>\n",
       "      <td>6.118400e+10</td>\n",
       "      <td>0</td>\n",
       "      <td>6.118400e+10</td>\n",
       "      <td>1.224</td>\n",
       "      <td>Santa Clara</td>\n",
       "      <td>CA</td>\n",
       "      <td>United States</td>\n",
       "      <td>29600</td>\n",
       "      <td>NVIDIA Corporation provides graphics and compu...</td>\n",
       "      <td>0.059350</td>\n",
       "    </tr>\n",
       "    <tr>\n",
       "      <th>2</th>\n",
       "      <td>NMS</td>\n",
       "      <td>MSFT</td>\n",
       "      <td>Microsoft Corporation</td>\n",
       "      <td>Microsoft Corporation</td>\n",
       "      <td>Technology</td>\n",
       "      <td>Software - Infrastructure</td>\n",
       "      <td>436.60</td>\n",
       "      <td>3246068596736</td>\n",
       "      <td>1.365520e+11</td>\n",
       "      <td>0</td>\n",
       "      <td>1.365520e+11</td>\n",
       "      <td>0.160</td>\n",
       "      <td>Redmond</td>\n",
       "      <td>WA</td>\n",
       "      <td>United States</td>\n",
       "      <td>228000</td>\n",
       "      <td>Microsoft Corporation develops and supports so...</td>\n",
       "      <td>0.058401</td>\n",
       "    </tr>\n",
       "    <tr>\n",
       "      <th>3</th>\n",
       "      <td>NMS</td>\n",
       "      <td>AMZN</td>\n",
       "      <td>Amazon.com, Inc.</td>\n",
       "      <td>Amazon.com, Inc.</td>\n",
       "      <td>Consumer Cyclical</td>\n",
       "      <td>Internet Retail</td>\n",
       "      <td>224.92</td>\n",
       "      <td>2365033807872</td>\n",
       "      <td>1.115830e+11</td>\n",
       "      <td>0</td>\n",
       "      <td>1.115830e+11</td>\n",
       "      <td>0.110</td>\n",
       "      <td>Seattle</td>\n",
       "      <td>WA</td>\n",
       "      <td>United States</td>\n",
       "      <td>1551000</td>\n",
       "      <td>Amazon.com, Inc. engages in the retail sale of...</td>\n",
       "      <td>0.042550</td>\n",
       "    </tr>\n",
       "    <tr>\n",
       "      <th>4</th>\n",
       "      <td>NMS</td>\n",
       "      <td>GOOGL</td>\n",
       "      <td>Alphabet Inc.</td>\n",
       "      <td>Alphabet Inc.</td>\n",
       "      <td>Communication Services</td>\n",
       "      <td>Internet Content &amp; Information</td>\n",
       "      <td>191.41</td>\n",
       "      <td>2351625142272</td>\n",
       "      <td>1.234700e+11</td>\n",
       "      <td>0</td>\n",
       "      <td>1.234700e+11</td>\n",
       "      <td>0.151</td>\n",
       "      <td>Mountain View</td>\n",
       "      <td>CA</td>\n",
       "      <td>United States</td>\n",
       "      <td>181269</td>\n",
       "      <td>Alphabet Inc. offers various products and plat...</td>\n",
       "      <td>0.042309</td>\n",
       "    </tr>\n",
       "  </tbody>\n",
       "</table>\n",
       "</div>"
      ],
      "text/plain": [
       "  exchange symbol              shortname               longname  \\\n",
       "0      NMS   AAPL             Apple Inc.             Apple Inc.   \n",
       "1      NMS   NVDA     NVIDIA Corporation     NVIDIA Corporation   \n",
       "2      NMS   MSFT  Microsoft Corporation  Microsoft Corporation   \n",
       "3      NMS   AMZN       Amazon.com, Inc.       Amazon.com, Inc.   \n",
       "4      NMS  GOOGL          Alphabet Inc.          Alphabet Inc.   \n",
       "\n",
       "                   sector                        industry  currentprice  \\\n",
       "0              Technology            Consumer Electronics        254.49   \n",
       "1              Technology                  Semiconductors        134.70   \n",
       "2              Technology       Software - Infrastructure        436.60   \n",
       "3       Consumer Cyclical                 Internet Retail        224.92   \n",
       "4  Communication Services  Internet Content & Information        191.41   \n",
       "\n",
       "       marketcap        ebitda  is_bank  ebitda_clean  revenuegrowth  \\\n",
       "0  3846819807232  1.346610e+11        0  1.346610e+11          0.061   \n",
       "1  3298803056640  6.118400e+10        0  6.118400e+10          1.224   \n",
       "2  3246068596736  1.365520e+11        0  1.365520e+11          0.160   \n",
       "3  2365033807872  1.115830e+11        0  1.115830e+11          0.110   \n",
       "4  2351625142272  1.234700e+11        0  1.234700e+11          0.151   \n",
       "\n",
       "            city state        country  fulltimeemployees  \\\n",
       "0      Cupertino    CA  United States             164000   \n",
       "1    Santa Clara    CA  United States              29600   \n",
       "2        Redmond    WA  United States             228000   \n",
       "3        Seattle    WA  United States            1551000   \n",
       "4  Mountain View    CA  United States             181269   \n",
       "\n",
       "                                 longbusinesssummary    weight  \n",
       "0  Apple Inc. designs, manufactures, and markets ...  0.069209  \n",
       "1  NVIDIA Corporation provides graphics and compu...  0.059350  \n",
       "2  Microsoft Corporation develops and supports so...  0.058401  \n",
       "3  Amazon.com, Inc. engages in the retail sale of...  0.042550  \n",
       "4  Alphabet Inc. offers various products and plat...  0.042309  "
      ]
     },
     "execution_count": 2,
     "metadata": {},
     "output_type": "execute_result"
    }
   ],
   "source": [
    "# Load the dataset\n",
    "df = pd.read_csv(\"sp500_companies_cleaned.csv\")\n",
    "df.head()"
   ]
  },
  {
   "cell_type": "markdown",
   "id": "2cbf7dcd",
   "metadata": {},
   "source": [
    "## 🛠️ Feature Engineering"
   ]
  },
  {
   "cell_type": "code",
   "execution_count": 3,
   "id": "1e377b88",
   "metadata": {},
   "outputs": [
    {
     "data": {
      "application/vnd.microsoft.datawrangler.viewer.v0+json": {
       "columns": [
        {
         "name": "index",
         "rawType": "object",
         "type": "string"
        },
        {
         "name": "price_to_ebitda",
         "rawType": "float64",
         "type": "float"
        },
        {
         "name": "employees_per_marketcap",
         "rawType": "float64",
         "type": "float"
        },
        {
         "name": "log_marketcap",
         "rawType": "float64",
         "type": "float"
        }
       ],
       "ref": "f37735bf-9ab6-4a92-85d8-563e9f192980",
       "rows": [
        [
         "count",
         "473.0",
         "502.0",
         "502.0"
        ],
        [
         "mean",
         "1.0864740870577516e-07",
         "1.1338466635910702e-06",
         "24.481927795501083"
        ],
        [
         "std",
         "4.130543495646072e-07",
         "1.8650585462392132e-06",
         "1.1102702789603016"
        ],
        [
         "min",
         "-5.119205298013245e-06",
         "9.225835220028937e-10",
         "22.263160582723227"
        ],
        [
         "25%",
         "1.5556989675547244e-08",
         "2.649110039803781e-07",
         "23.68513947214046"
        ],
        [
         "50%",
         "3.632065217391304e-08",
         "5.863085258667975e-07",
         "24.335905088747133"
        ],
        [
         "75%",
         "9.133919843597262e-08",
         "1.1889085096128273e-06",
         "25.083872503682947"
        ],
        [
         "max",
         "3.995541403733712e-06",
         "2.340440641186633e-05",
         "28.978267898787028"
        ]
       ],
       "shape": {
        "columns": 3,
        "rows": 8
       }
      },
      "text/html": [
       "<div>\n",
       "<style scoped>\n",
       "    .dataframe tbody tr th:only-of-type {\n",
       "        vertical-align: middle;\n",
       "    }\n",
       "\n",
       "    .dataframe tbody tr th {\n",
       "        vertical-align: top;\n",
       "    }\n",
       "\n",
       "    .dataframe thead th {\n",
       "        text-align: right;\n",
       "    }\n",
       "</style>\n",
       "<table border=\"1\" class=\"dataframe\">\n",
       "  <thead>\n",
       "    <tr style=\"text-align: right;\">\n",
       "      <th></th>\n",
       "      <th>price_to_ebitda</th>\n",
       "      <th>employees_per_marketcap</th>\n",
       "      <th>log_marketcap</th>\n",
       "    </tr>\n",
       "  </thead>\n",
       "  <tbody>\n",
       "    <tr>\n",
       "      <th>count</th>\n",
       "      <td>4.730000e+02</td>\n",
       "      <td>5.020000e+02</td>\n",
       "      <td>502.000000</td>\n",
       "    </tr>\n",
       "    <tr>\n",
       "      <th>mean</th>\n",
       "      <td>1.086474e-07</td>\n",
       "      <td>1.133847e-06</td>\n",
       "      <td>24.481928</td>\n",
       "    </tr>\n",
       "    <tr>\n",
       "      <th>std</th>\n",
       "      <td>4.130543e-07</td>\n",
       "      <td>1.865059e-06</td>\n",
       "      <td>1.110270</td>\n",
       "    </tr>\n",
       "    <tr>\n",
       "      <th>min</th>\n",
       "      <td>-5.119205e-06</td>\n",
       "      <td>9.225835e-10</td>\n",
       "      <td>22.263161</td>\n",
       "    </tr>\n",
       "    <tr>\n",
       "      <th>25%</th>\n",
       "      <td>1.555699e-08</td>\n",
       "      <td>2.649110e-07</td>\n",
       "      <td>23.685139</td>\n",
       "    </tr>\n",
       "    <tr>\n",
       "      <th>50%</th>\n",
       "      <td>3.632065e-08</td>\n",
       "      <td>5.863085e-07</td>\n",
       "      <td>24.335905</td>\n",
       "    </tr>\n",
       "    <tr>\n",
       "      <th>75%</th>\n",
       "      <td>9.133920e-08</td>\n",
       "      <td>1.188909e-06</td>\n",
       "      <td>25.083873</td>\n",
       "    </tr>\n",
       "    <tr>\n",
       "      <th>max</th>\n",
       "      <td>3.995541e-06</td>\n",
       "      <td>2.340441e-05</td>\n",
       "      <td>28.978268</td>\n",
       "    </tr>\n",
       "  </tbody>\n",
       "</table>\n",
       "</div>"
      ],
      "text/plain": [
       "       price_to_ebitda  employees_per_marketcap  log_marketcap\n",
       "count     4.730000e+02             5.020000e+02     502.000000\n",
       "mean      1.086474e-07             1.133847e-06      24.481928\n",
       "std       4.130543e-07             1.865059e-06       1.110270\n",
       "min      -5.119205e-06             9.225835e-10      22.263161\n",
       "25%       1.555699e-08             2.649110e-07      23.685139\n",
       "50%       3.632065e-08             5.863085e-07      24.335905\n",
       "75%       9.133920e-08             1.188909e-06      25.083873\n",
       "max       3.995541e-06             2.340441e-05      28.978268"
      ]
     },
     "execution_count": 3,
     "metadata": {},
     "output_type": "execute_result"
    }
   ],
   "source": [
    "# Create Price-to-EBITDA and Employees per MarketCap\n",
    "df[\"price_to_ebitda\"] = df[\"currentprice\"] / df[\"ebitda\"].replace(0, np.nan)\n",
    "df[\"employees_per_marketcap\"] = df[\"fulltimeemployees\"] / df[\"marketcap\"].replace(0, np.nan)\n",
    "df[\"log_marketcap\"] = np.log1p(df[\"marketcap\"])\n",
    "df[[\"price_to_ebitda\", \"employees_per_marketcap\", \"log_marketcap\"]].describe()"
   ]
  },
  {
   "cell_type": "markdown",
   "id": "7b462c2d",
   "metadata": {},
   "source": [
    "- price_to_ebitda: The ratio of the current stock price to EBITDA (Earnings Before Interest, Taxes, Depreciation, and Amortization). This is a valuation metric, similar to P/E, but uses EBITDA instead of net income.\n",
    "- employees_per_marketcap: The number of full-time employees divided by the company's market capitalization. This gives a sense of how many employees a company has relative to its market value.\n",
    "- log_marketcap: The natural logarithm of (market capitalization + 1). This transformation is often used to reduce skewness and make the distribution of market cap more normal for analysis."
   ]
  },
  {
   "cell_type": "code",
   "execution_count": 5,
   "id": "cd3d4890",
   "metadata": {},
   "outputs": [
    {
     "data": {
      "application/vnd.microsoft.datawrangler.viewer.v0+json": {
       "columns": [
        {
         "name": "index",
         "rawType": "int64",
         "type": "integer"
        },
        {
         "name": "price_to_ebitda",
         "rawType": "float64",
         "type": "float"
        },
        {
         "name": "employees_per_marketcap",
         "rawType": "float64",
         "type": "float"
        },
        {
         "name": "log_marketcap",
         "rawType": "float64",
         "type": "float"
        }
       ],
       "ref": "7d1c01b0-5adf-42de-b7ef-606ac68615a1",
       "rows": [
        [
         "0",
         "1.889856791816395e-09",
         "4.2632618167266606e-08",
         "28.978267898787028"
        ],
        [
         "1",
         "2.201555962343096e-09",
         "8.972951549932513e-09",
         "28.82458080849697"
        ],
        [
         "2",
         "3.197316833038924e-09",
         "7.023881141306116e-08",
         "28.808465717495437"
        ],
        [
         "3",
         "2.0157191929841716e-09",
         "6.558045787072922e-07",
         "28.49181343285399"
        ],
        [
         "4",
         "1.5502551725229815e-09",
         "7.70824383281039e-08",
         "28.48612775497757"
        ]
       ],
       "shape": {
        "columns": 3,
        "rows": 5
       }
      },
      "text/html": [
       "<div>\n",
       "<style scoped>\n",
       "    .dataframe tbody tr th:only-of-type {\n",
       "        vertical-align: middle;\n",
       "    }\n",
       "\n",
       "    .dataframe tbody tr th {\n",
       "        vertical-align: top;\n",
       "    }\n",
       "\n",
       "    .dataframe thead th {\n",
       "        text-align: right;\n",
       "    }\n",
       "</style>\n",
       "<table border=\"1\" class=\"dataframe\">\n",
       "  <thead>\n",
       "    <tr style=\"text-align: right;\">\n",
       "      <th></th>\n",
       "      <th>price_to_ebitda</th>\n",
       "      <th>employees_per_marketcap</th>\n",
       "      <th>log_marketcap</th>\n",
       "    </tr>\n",
       "  </thead>\n",
       "  <tbody>\n",
       "    <tr>\n",
       "      <th>0</th>\n",
       "      <td>1.889857e-09</td>\n",
       "      <td>4.263262e-08</td>\n",
       "      <td>28.978268</td>\n",
       "    </tr>\n",
       "    <tr>\n",
       "      <th>1</th>\n",
       "      <td>2.201556e-09</td>\n",
       "      <td>8.972952e-09</td>\n",
       "      <td>28.824581</td>\n",
       "    </tr>\n",
       "    <tr>\n",
       "      <th>2</th>\n",
       "      <td>3.197317e-09</td>\n",
       "      <td>7.023881e-08</td>\n",
       "      <td>28.808466</td>\n",
       "    </tr>\n",
       "    <tr>\n",
       "      <th>3</th>\n",
       "      <td>2.015719e-09</td>\n",
       "      <td>6.558046e-07</td>\n",
       "      <td>28.491813</td>\n",
       "    </tr>\n",
       "    <tr>\n",
       "      <th>4</th>\n",
       "      <td>1.550255e-09</td>\n",
       "      <td>7.708244e-08</td>\n",
       "      <td>28.486128</td>\n",
       "    </tr>\n",
       "  </tbody>\n",
       "</table>\n",
       "</div>"
      ],
      "text/plain": [
       "   price_to_ebitda  employees_per_marketcap  log_marketcap\n",
       "0     1.889857e-09             4.263262e-08      28.978268\n",
       "1     2.201556e-09             8.972952e-09      28.824581\n",
       "2     3.197317e-09             7.023881e-08      28.808466\n",
       "3     2.015719e-09             6.558046e-07      28.491813\n",
       "4     1.550255e-09             7.708244e-08      28.486128"
      ]
     },
     "execution_count": 5,
     "metadata": {},
     "output_type": "execute_result"
    }
   ],
   "source": [
    "df[['price_to_ebitda', 'employees_per_marketcap', 'log_marketcap']].head()"
   ]
  },
  {
   "cell_type": "markdown",
   "id": "e3b8bf66",
   "metadata": {},
   "source": [
    "## ⚠️ Outlier Detection (Z-Score Method)\n",
    "\n",
    "Outlier detection is a crucial step in data analysis, as outliers can skew results and lead to incorrect conclusions. The Z-Score method is a popular statistical technique used to identify outliers in a dataset. It measures how many standard deviations an element is from the mean and flags elements that are too far from the mean as outliers."
   ]
  },
  {
   "cell_type": "code",
   "execution_count": 6,
   "id": "c34757a5",
   "metadata": {},
   "outputs": [
    {
     "data": {
      "application/vnd.microsoft.datawrangler.viewer.v0+json": {
       "columns": [
        {
         "name": "index",
         "rawType": "int64",
         "type": "integer"
        },
        {
         "name": "exchange",
         "rawType": "object",
         "type": "string"
        },
        {
         "name": "symbol",
         "rawType": "object",
         "type": "string"
        },
        {
         "name": "shortname",
         "rawType": "object",
         "type": "string"
        },
        {
         "name": "longname",
         "rawType": "object",
         "type": "string"
        },
        {
         "name": "sector",
         "rawType": "object",
         "type": "string"
        },
        {
         "name": "industry",
         "rawType": "object",
         "type": "string"
        },
        {
         "name": "currentprice",
         "rawType": "float64",
         "type": "float"
        },
        {
         "name": "marketcap",
         "rawType": "int64",
         "type": "integer"
        },
        {
         "name": "ebitda",
         "rawType": "float64",
         "type": "float"
        },
        {
         "name": "is_bank",
         "rawType": "int64",
         "type": "integer"
        },
        {
         "name": "ebitda_clean",
         "rawType": "float64",
         "type": "float"
        },
        {
         "name": "revenuegrowth",
         "rawType": "float64",
         "type": "float"
        },
        {
         "name": "city",
         "rawType": "object",
         "type": "string"
        },
        {
         "name": "state",
         "rawType": "object",
         "type": "string"
        },
        {
         "name": "country",
         "rawType": "object",
         "type": "string"
        },
        {
         "name": "fulltimeemployees",
         "rawType": "int64",
         "type": "integer"
        },
        {
         "name": "longbusinesssummary",
         "rawType": "object",
         "type": "string"
        },
        {
         "name": "weight",
         "rawType": "float64",
         "type": "float"
        },
        {
         "name": "price_to_ebitda",
         "rawType": "float64",
         "type": "float"
        },
        {
         "name": "employees_per_marketcap",
         "rawType": "float64",
         "type": "float"
        },
        {
         "name": "log_marketcap",
         "rawType": "float64",
         "type": "float"
        },
        {
         "name": "outlier_count",
         "rawType": "int64",
         "type": "integer"
        }
       ],
       "ref": "5f729cf5-395d-48fb-a8a8-e595bc575799",
       "rows": [
        [
         "3",
         "NMS",
         "AMZN",
         "Amazon.com, Inc.",
         "Amazon.com, Inc.",
         "Consumer Cyclical",
         "Internet Retail",
         "224.92",
         "2365033807872",
         "111583002624.0",
         "0",
         "111583002624.0",
         "0.11",
         "Seattle",
         "WA",
         "United States",
         "1551000",
         "Amazon.com, Inc. engages in the retail sale of consumer products, advertising, and subscriptions service through online and physical stores in North America and internationally. The company operates through three segments: North America, International, and Amazon Web Services (AWS). It also manufactures and sells electronic devices, including Kindle, Fire tablets, Fire TVs, Echo, Ring, Blink, and eero; and develops and produces media content. In addition, the company offers programs that enable sellers to sell their products in its stores; and programs that allow authors, independent publishers, musicians, filmmakers, Twitch streamers, skill and app developers, and others to publish and sell content. Further, it provides compute, storage, database, analytics, machine learning, and other services, as well as advertising services through programs, such as sponsored ads, display, and video advertising. Additionally, the company offers Amazon Prime, a membership program. The company's products offered through its stores include merchandise and content purchased for resale and products offered by third-party sellers. It serves consumers, sellers, developers, enterprises, content creators, advertisers, and employees. Amazon.com, Inc. was incorporated in 1994 and is headquartered in Seattle, Washington.",
         "0.0425499486683522",
         "2.0157191929841716e-09",
         "6.558045787072922e-07",
         "28.49181343285399",
         "6"
        ],
        [
         "1",
         "NMS",
         "NVDA",
         "NVIDIA Corporation",
         "NVIDIA Corporation",
         "Technology",
         "Semiconductors",
         "134.7",
         "3298803056640",
         "61184000000.0",
         "0",
         "61184000000.0",
         "1.224",
         "Santa Clara",
         "CA",
         "United States",
         "29600",
         "NVIDIA Corporation provides graphics and compute and networking solutions in the United States, Taiwan, China, Hong Kong, and internationally. The Graphics segment offers GeForce GPUs for gaming and PCs, the GeForce NOW game streaming service and related infrastructure, and solutions for gaming platforms; Quadro/NVIDIA RTX GPUs for enterprise workstation graphics; virtual GPU or vGPU software for cloud-based visual and virtual computing; automotive platforms for infotainment systems; and Omniverse software for building and operating metaverse and 3D internet applications. The Compute & Networking segment comprises Data Center computing platforms and end-to-end networking platforms, including Quantum for InfiniBand and Spectrum for Ethernet; NVIDIA DRIVE automated-driving platform and automotive development agreements; Jetson robotics and other embedded platforms; NVIDIA AI Enterprise and other software; and DGX Cloud software and services. The company's products are used in gaming, professional visualization, data center, and automotive markets. It sells its products to original equipment manufacturers, original device manufacturers, system integrators and distributors, independent software vendors, cloud service providers, consumer internet companies, add-in board manufacturers, distributors, automotive manufacturers and tier-1 automotive suppliers, and other ecosystem participants. NVIDIA Corporation was incorporated in 1993 and is headquartered in Santa Clara, California.",
         "0.0593496381573215",
         "2.201555962343096e-09",
         "8.972951549932513e-09",
         "28.82458080849697",
         "6"
        ],
        [
         "0",
         "NMS",
         "AAPL",
         "Apple Inc.",
         "Apple Inc.",
         "Technology",
         "Consumer Electronics",
         "254.49",
         "3846819807232",
         "134660997120.0",
         "0",
         "134660997120.0",
         "0.061",
         "Cupertino",
         "CA",
         "United States",
         "164000",
         "Apple Inc. designs, manufactures, and markets smartphones, personal computers, tablets, wearables, and accessories worldwide. The company offers iPhone, a line of smartphones; Mac, a line of personal computers; iPad, a line of multi-purpose tablets; and wearables, home, and accessories comprising AirPods, Apple TV, Apple Watch, Beats products, and HomePod. It also provides AppleCare support and cloud services; and operates various platforms, including the App Store that allow customers to discover and download applications and digital content, such as books, music, video, games, and podcasts, as well as advertising services include third-party licensing arrangements and its own advertising platforms. In addition, the company offers various subscription-based services, such as Apple Arcade, a game subscription service; Apple Fitness+, a personalized fitness service; Apple Music, which offers users a curated listening experience with on-demand radio stations; Apple News+, a subscription news and magazine service; Apple TV+, which offers exclusive original content; Apple Card, a co-branded credit card; and Apple Pay, a cashless payment service, as well as licenses its intellectual property. The company serves consumers, and small and mid-sized businesses; and the education, enterprise, and government markets. It distributes third-party applications for its products through the App Store. The company also sells its products through its retail and online stores, and direct sales force; and third-party cellular network carriers, wholesalers, retailers, and resellers. Apple Inc. was founded in 1976 and is headquartered in Cupertino, California.",
         "0.0692091524397274",
         "1.889856791816395e-09",
         "4.2632618167266606e-08",
         "28.978267898787028",
         "5"
        ],
        [
         "2",
         "NMS",
         "MSFT",
         "Microsoft Corporation",
         "Microsoft Corporation",
         "Technology",
         "Software - Infrastructure",
         "436.6",
         "3246068596736",
         "136551997440.0",
         "0",
         "136551997440.0",
         "0.16",
         "Redmond",
         "WA",
         "United States",
         "228000",
         "Microsoft Corporation develops and supports software, services, devices and solutions worldwide. The Productivity and Business Processes segment offers office, exchange, SharePoint, Microsoft Teams, office 365 Security and Compliance, Microsoft viva, and Microsoft 365 copilot; and office consumer services, such as Microsoft 365 consumer subscriptions, Office licensed on-premises, and other office services. This segment also provides LinkedIn; and dynamics business solutions, including Dynamics 365, a set of intelligent, cloud-based applications across ERP, CRM, power apps, and power automate; and on-premises ERP and CRM applications. The Intelligent Cloud segment offers server products and cloud services, such as azure and other cloud services; SQL and windows server, visual studio, system center, and related client access licenses, as well as nuance and GitHub; and enterprise services including enterprise support services, industry solutions, and nuance professional services. The More Personal Computing segment offers Windows, including windows OEM licensing and other non-volume licensing of the Windows operating system; Windows commercial comprising volume licensing of the Windows operating system, windows cloud services, and other Windows commercial offerings; patent licensing; and windows Internet of Things; and devices, such as surface, HoloLens, and PC accessories. Additionally, this segment provides gaming, which includes Xbox hardware and content, and first- and third-party content; Xbox game pass and other subscriptions, cloud gaming, advertising, third-party disc royalties, and other cloud services; and search and news advertising, which includes Bing, Microsoft News and Edge, and third-party affiliates. The company sells its products through OEMs, distributors, and resellers; and directly through digital marketplaces, online, and retail stores. The company was founded in 1975 and is headquartered in Redmond, Washington.",
         "0.0584008785436112",
         "3.197316833038924e-09",
         "7.023881141306116e-08",
         "28.808465717495437",
         "5"
        ],
        [
         "4",
         "NMS",
         "GOOGL",
         "Alphabet Inc.",
         "Alphabet Inc.",
         "Communication Services",
         "Internet Content & Information",
         "191.41",
         "2351625142272",
         "123469996032.0",
         "0",
         "123469996032.0",
         "0.151",
         "Mountain View",
         "CA",
         "United States",
         "181269",
         "Alphabet Inc. offers various products and platforms in the United States, Europe, the Middle East, Africa, the Asia-Pacific, Canada, and Latin America. It operates through Google Services, Google Cloud, and Other Bets segments. The Google Services segment provides products and services, including ads, Android, Chrome, devices, Gmail, Google Drive, Google Maps, Google Photos, Google Play, Search, and YouTube. It is also involved in the sale of apps and in-app purchases and digital content in the Google Play and YouTube; and devices, as well as in the provision of YouTube consumer subscription services. The Google Cloud segment offers infrastructure, cybersecurity, databases, analytics, AI, and other services; Google Workspace that include cloud-based communication and collaboration tools for enterprises, such as Gmail, Docs, Drive, Calendar, and Meet; and other services for enterprise customers. The Other Bets segment sells healthcare-related and internet services. The company was incorporated in 1998 and is headquartered in Mountain View, California.",
         "0.0423087098196338",
         "1.5502551725229815e-09",
         "7.70824383281039e-08",
         "28.48612775497757",
         "5"
        ]
       ],
       "shape": {
        "columns": 22,
        "rows": 5
       }
      },
      "text/html": [
       "<div>\n",
       "<style scoped>\n",
       "    .dataframe tbody tr th:only-of-type {\n",
       "        vertical-align: middle;\n",
       "    }\n",
       "\n",
       "    .dataframe tbody tr th {\n",
       "        vertical-align: top;\n",
       "    }\n",
       "\n",
       "    .dataframe thead th {\n",
       "        text-align: right;\n",
       "    }\n",
       "</style>\n",
       "<table border=\"1\" class=\"dataframe\">\n",
       "  <thead>\n",
       "    <tr style=\"text-align: right;\">\n",
       "      <th></th>\n",
       "      <th>exchange</th>\n",
       "      <th>symbol</th>\n",
       "      <th>shortname</th>\n",
       "      <th>longname</th>\n",
       "      <th>sector</th>\n",
       "      <th>industry</th>\n",
       "      <th>currentprice</th>\n",
       "      <th>marketcap</th>\n",
       "      <th>ebitda</th>\n",
       "      <th>is_bank</th>\n",
       "      <th>...</th>\n",
       "      <th>city</th>\n",
       "      <th>state</th>\n",
       "      <th>country</th>\n",
       "      <th>fulltimeemployees</th>\n",
       "      <th>longbusinesssummary</th>\n",
       "      <th>weight</th>\n",
       "      <th>price_to_ebitda</th>\n",
       "      <th>employees_per_marketcap</th>\n",
       "      <th>log_marketcap</th>\n",
       "      <th>outlier_count</th>\n",
       "    </tr>\n",
       "  </thead>\n",
       "  <tbody>\n",
       "    <tr>\n",
       "      <th>3</th>\n",
       "      <td>NMS</td>\n",
       "      <td>AMZN</td>\n",
       "      <td>Amazon.com, Inc.</td>\n",
       "      <td>Amazon.com, Inc.</td>\n",
       "      <td>Consumer Cyclical</td>\n",
       "      <td>Internet Retail</td>\n",
       "      <td>224.92</td>\n",
       "      <td>2365033807872</td>\n",
       "      <td>1.115830e+11</td>\n",
       "      <td>0</td>\n",
       "      <td>...</td>\n",
       "      <td>Seattle</td>\n",
       "      <td>WA</td>\n",
       "      <td>United States</td>\n",
       "      <td>1551000</td>\n",
       "      <td>Amazon.com, Inc. engages in the retail sale of...</td>\n",
       "      <td>0.042550</td>\n",
       "      <td>2.015719e-09</td>\n",
       "      <td>6.558046e-07</td>\n",
       "      <td>28.491813</td>\n",
       "      <td>6</td>\n",
       "    </tr>\n",
       "    <tr>\n",
       "      <th>1</th>\n",
       "      <td>NMS</td>\n",
       "      <td>NVDA</td>\n",
       "      <td>NVIDIA Corporation</td>\n",
       "      <td>NVIDIA Corporation</td>\n",
       "      <td>Technology</td>\n",
       "      <td>Semiconductors</td>\n",
       "      <td>134.70</td>\n",
       "      <td>3298803056640</td>\n",
       "      <td>6.118400e+10</td>\n",
       "      <td>0</td>\n",
       "      <td>...</td>\n",
       "      <td>Santa Clara</td>\n",
       "      <td>CA</td>\n",
       "      <td>United States</td>\n",
       "      <td>29600</td>\n",
       "      <td>NVIDIA Corporation provides graphics and compu...</td>\n",
       "      <td>0.059350</td>\n",
       "      <td>2.201556e-09</td>\n",
       "      <td>8.972952e-09</td>\n",
       "      <td>28.824581</td>\n",
       "      <td>6</td>\n",
       "    </tr>\n",
       "    <tr>\n",
       "      <th>0</th>\n",
       "      <td>NMS</td>\n",
       "      <td>AAPL</td>\n",
       "      <td>Apple Inc.</td>\n",
       "      <td>Apple Inc.</td>\n",
       "      <td>Technology</td>\n",
       "      <td>Consumer Electronics</td>\n",
       "      <td>254.49</td>\n",
       "      <td>3846819807232</td>\n",
       "      <td>1.346610e+11</td>\n",
       "      <td>0</td>\n",
       "      <td>...</td>\n",
       "      <td>Cupertino</td>\n",
       "      <td>CA</td>\n",
       "      <td>United States</td>\n",
       "      <td>164000</td>\n",
       "      <td>Apple Inc. designs, manufactures, and markets ...</td>\n",
       "      <td>0.069209</td>\n",
       "      <td>1.889857e-09</td>\n",
       "      <td>4.263262e-08</td>\n",
       "      <td>28.978268</td>\n",
       "      <td>5</td>\n",
       "    </tr>\n",
       "    <tr>\n",
       "      <th>2</th>\n",
       "      <td>NMS</td>\n",
       "      <td>MSFT</td>\n",
       "      <td>Microsoft Corporation</td>\n",
       "      <td>Microsoft Corporation</td>\n",
       "      <td>Technology</td>\n",
       "      <td>Software - Infrastructure</td>\n",
       "      <td>436.60</td>\n",
       "      <td>3246068596736</td>\n",
       "      <td>1.365520e+11</td>\n",
       "      <td>0</td>\n",
       "      <td>...</td>\n",
       "      <td>Redmond</td>\n",
       "      <td>WA</td>\n",
       "      <td>United States</td>\n",
       "      <td>228000</td>\n",
       "      <td>Microsoft Corporation develops and supports so...</td>\n",
       "      <td>0.058401</td>\n",
       "      <td>3.197317e-09</td>\n",
       "      <td>7.023881e-08</td>\n",
       "      <td>28.808466</td>\n",
       "      <td>5</td>\n",
       "    </tr>\n",
       "    <tr>\n",
       "      <th>4</th>\n",
       "      <td>NMS</td>\n",
       "      <td>GOOGL</td>\n",
       "      <td>Alphabet Inc.</td>\n",
       "      <td>Alphabet Inc.</td>\n",
       "      <td>Communication Services</td>\n",
       "      <td>Internet Content &amp; Information</td>\n",
       "      <td>191.41</td>\n",
       "      <td>2351625142272</td>\n",
       "      <td>1.234700e+11</td>\n",
       "      <td>0</td>\n",
       "      <td>...</td>\n",
       "      <td>Mountain View</td>\n",
       "      <td>CA</td>\n",
       "      <td>United States</td>\n",
       "      <td>181269</td>\n",
       "      <td>Alphabet Inc. offers various products and plat...</td>\n",
       "      <td>0.042309</td>\n",
       "      <td>1.550255e-09</td>\n",
       "      <td>7.708244e-08</td>\n",
       "      <td>28.486128</td>\n",
       "      <td>5</td>\n",
       "    </tr>\n",
       "  </tbody>\n",
       "</table>\n",
       "<p>5 rows × 22 columns</p>\n",
       "</div>"
      ],
      "text/plain": [
       "  exchange symbol              shortname               longname  \\\n",
       "3      NMS   AMZN       Amazon.com, Inc.       Amazon.com, Inc.   \n",
       "1      NMS   NVDA     NVIDIA Corporation     NVIDIA Corporation   \n",
       "0      NMS   AAPL             Apple Inc.             Apple Inc.   \n",
       "2      NMS   MSFT  Microsoft Corporation  Microsoft Corporation   \n",
       "4      NMS  GOOGL          Alphabet Inc.          Alphabet Inc.   \n",
       "\n",
       "                   sector                        industry  currentprice  \\\n",
       "3       Consumer Cyclical                 Internet Retail        224.92   \n",
       "1              Technology                  Semiconductors        134.70   \n",
       "0              Technology            Consumer Electronics        254.49   \n",
       "2              Technology       Software - Infrastructure        436.60   \n",
       "4  Communication Services  Internet Content & Information        191.41   \n",
       "\n",
       "       marketcap        ebitda  is_bank  ...           city  state  \\\n",
       "3  2365033807872  1.115830e+11        0  ...        Seattle     WA   \n",
       "1  3298803056640  6.118400e+10        0  ...    Santa Clara     CA   \n",
       "0  3846819807232  1.346610e+11        0  ...      Cupertino     CA   \n",
       "2  3246068596736  1.365520e+11        0  ...        Redmond     WA   \n",
       "4  2351625142272  1.234700e+11        0  ...  Mountain View     CA   \n",
       "\n",
       "         country fulltimeemployees  \\\n",
       "3  United States           1551000   \n",
       "1  United States             29600   \n",
       "0  United States            164000   \n",
       "2  United States            228000   \n",
       "4  United States            181269   \n",
       "\n",
       "                                 longbusinesssummary    weight  \\\n",
       "3  Amazon.com, Inc. engages in the retail sale of...  0.042550   \n",
       "1  NVIDIA Corporation provides graphics and compu...  0.059350   \n",
       "0  Apple Inc. designs, manufactures, and markets ...  0.069209   \n",
       "2  Microsoft Corporation develops and supports so...  0.058401   \n",
       "4  Alphabet Inc. offers various products and plat...  0.042309   \n",
       "\n",
       "  price_to_ebitda  employees_per_marketcap  log_marketcap  outlier_count  \n",
       "3    2.015719e-09             6.558046e-07      28.491813              6  \n",
       "1    2.201556e-09             8.972952e-09      28.824581              6  \n",
       "0    1.889857e-09             4.263262e-08      28.978268              5  \n",
       "2    3.197317e-09             7.023881e-08      28.808466              5  \n",
       "4    1.550255e-09             7.708244e-08      28.486128              5  \n",
       "\n",
       "[5 rows x 22 columns]"
      ]
     },
     "execution_count": 6,
     "metadata": {},
     "output_type": "execute_result"
    }
   ],
   "source": [
    "z_scores = np.abs(stats.zscore(df.select_dtypes(include=[np.number]).fillna(0)))\n",
    "outliers = (z_scores > 3).sum(axis=1)\n",
    "df[\"outlier_count\"] = outliers\n",
    "df.sort_values(\"outlier_count\", ascending=False).head()"
   ]
  },
  {
   "cell_type": "markdown",
   "id": "fc86a392",
   "metadata": {},
   "source": [
    "In the cell above, outlier detection is performed using the Z-score method. Here’s a step-by-step explanation:\n",
    "\n",
    "1. **Z-score Calculation:**  \n",
    "    The code computes the Z-score for each numeric column in the dataframe (`df`). The Z-score measures how many standard deviations a value is from the column mean. This is done using `stats.zscore()` from the `scipy` library, and missing values are filled with 0 to avoid errors.\n",
    "\n",
    "2. **Outlier Identification:**  \n",
    "    For each row, the code checks how many columns have a Z-score greater than 3 (i.e., the value is more than 3 standard deviations away from the mean, a common threshold for outliers). The sum of these occurrences per row is stored in the `outliers` variable.\n",
    "\n",
    "3. **Storing Outlier Counts:**  \n",
    "    The number of outlier features for each company is added as a new column, `outlier_count`, in the dataframe.\n",
    "\n",
    "4. **Sorting and Display:**  \n",
    "    The dataframe is sorted in descending order by `outlier_count` to show the companies with the most outlier features at the top.\n",
    "\n",
    "This process helps identify companies with unusual financial or operational metrics compared to the rest of the S&P 500 dataset, which can be useful for further investigation or filtering in subsequent analyses."
   ]
  },
  {
   "cell_type": "markdown",
   "id": "679e6ce0",
   "metadata": {},
   "source": [
    "## 📊 Sectoral Comparison of Financial Ratios\n",
    "This section compares financial ratios across different sectors within the S&P 500 dataset. The goal is to highlight sectoral differences in key financial metrics such as P/E Ratio, and others. This comparison helps in understanding the relative financial performance and characteristics of companies in each sector.\n",
    "\n",
    "### Key Steps:\n",
    "\n",
    "1. **Select Financial Ratios:** Choose relevant financial ratios to compare.\n",
    "2. **Group by Sector:** Aggregate data by sector to compute average or median financial ratios for each sector.\n",
    "3. **Visualize Comparisons:** Use visualizations like bar charts, box plots, or heatmaps to display the differences in financial ratios between sectors.\n",
    "4. **Analyze Results:** Interpret the visualizations to identify sectors with notable differences in financial performance."
   ]
  },
  {
   "cell_type": "code",
   "execution_count": 7,
   "id": "14bd817f",
   "metadata": {},
   "outputs": [
    {
     "data": {
      "image/png": "[encoded data removed]",
      "text/plain": [
       "<Figure size 640x480 with 1 Axes>"
      ]
     },
     "metadata": {},
     "output_type": "display_data"
    },
    {
     "data": {
      "image/png": "[encoded data removed]",
      "text/plain": [
       "<Figure size 640x480 with 1 Axes>"
      ]
     },
     "metadata": {},
     "output_type": "display_data"
    }
   ],
   "source": [
    "ratio_means = df.groupby(\"sector\")[[\"price_to_ebitda\", \"employees_per_marketcap\"]].mean().sort_values(\"price_to_ebitda\", ascending=False)\n",
    "\n",
    "plt.figure()\n",
    "ratio_means[\"price_to_ebitda\"].plot(kind=\"barh\", title=\"Average Price to EBITDA Ratio by Sector\", color=\"coral\")\n",
    "plt.xlabel(\"Avg Price/EBITDA\")\n",
    "plt.tight_layout()\n",
    "plt.show()\n",
    "\n",
    "plt.figure()\n",
    "ratio_means[\"employees_per_marketcap\"].plot(kind=\"barh\", title=\"Avg Employees per MarketCap by Sector\", color=\"seagreen\")\n",
    "plt.xlabel(\"Employees / MarketCap\")\n",
    "plt.tight_layout()\n",
    "plt.show()"
   ]
  },
  {
   "cell_type": "markdown",
   "id": "c65b4096",
   "metadata": {},
   "source": [
    "The code above performs a sectoral comparison of financial ratios in the S&P 500 dataset:\n",
    "\n",
    "1. **Grouping by Sector:**  \n",
    "    It groups the dataframe `df` by the `sector` column and calculates the mean of two financial ratios: `price_to_ebitda` and `employees_per_marketcap` for each sector. The result is stored in `ratio_means`.\n",
    "\n",
    "2. **Sorting:**  \n",
    "    The grouped means are sorted in descending order based on the average `price_to_ebitda` ratio.\n",
    "\n",
    "3. **Visualization:**  \n",
    "    - The first plot is a horizontal bar chart showing the average `price_to_ebitda` ratio for each sector.\n",
    "    - The second plot is a horizontal bar chart showing the average `employees_per_marketcap` for each sector.\n",
    "    - Both plots use `matplotlib` for visualization, with custom colors and labels for clarity.\n",
    "\n",
    "These steps help to visually compare how different sectors perform on these key financial metrics, highlighting sectoral differences in valuation and workforce relative to market capitalization."
   ]
  },
  {
   "cell_type": "markdown",
   "id": "58f569c9",
   "metadata": {},
   "source": [
    "## 🧬 PCA (Principal Component Analysis)"
   ]
  },
  {
   "cell_type": "code",
   "execution_count": 9,
   "id": "f8e3c34d",
   "metadata": {},
   "outputs": [
    {
     "data": {
      "image/png": "[encoded data removed]",
      "text/plain": [
       "<Figure size 640x480 with 1 Axes>"
      ]
     },
     "metadata": {},
     "output_type": "display_data"
    }
   ],
   "source": [
    "features = [\"currentprice\", \"marketcap\", \"ebitda\", \"revenuegrowth\", \"fulltimeemployees\", \"price_to_ebitda\", \"employees_per_marketcap\"]\n",
    "X = df[features].fillna(0)\n",
    "\n",
    "scaler = StandardScaler()\n",
    "X_scaled = scaler.fit_transform(X)\n",
    "\n",
    "pca = PCA(n_components=2)\n",
    "pca_result = pca.fit_transform(X_scaled)\n",
    "df[\"pca_1\"] = pca_result[:, 0]\n",
    "df[\"pca_2\"] = pca_result[:, 1]\n",
    "\n",
    "plt.figure()\n",
    "sns.scatterplot(x=\"pca_1\", y=\"pca_2\", data=df, hue=\"sector\", palette=\"tab10\", legend=False)\n",
    "plt.title(\"PCA: Companies Reduced to 2D Space\")\n",
    "plt.xlabel(\"Principal Component 1\")\n",
    "plt.ylabel(\"Principal Component 2\")\n",
    "plt.tight_layout()\n",
    "plt.show()"
   ]
  },
  {
   "cell_type": "markdown",
   "id": "543e5a8f",
   "metadata": {},
   "source": [
    " The code and graph above perform Principal Component Analysis (PCA) on selected financial features of S&P 500 companies.\n",
    "\n",
    "### Step-by-step explanation:\n",
    " 1. Feature Selection: The features list contains key financial metrics (e.g., currentprice, marketcap, ebitda, revenuegrowth, etc.).\n",
    " 2. Data Preparation: X is a DataFrame with these features, and missing values are filled with 0.\n",
    " 3. Standardization: X_scaled is created by scaling X so each feature has mean 0 and standard deviation 1 (using StandardScaler). This is important for PCA. 4. PCA Transformation: PCA is performed to reduce the data to 2 principal components (pca_result). These components capture the most variance in the data.\n",
    " 5. Results Storage: The first and second principal components are added to df as pca_1 and pca_2.\n",
    " 6. Visualization: A scatter plot is created using seaborn, plotting each company in the 2D PCA space. Points are colored by sector.\n",
    "\n",
    "### Interpretation:\n",
    " - Each point represents a company, positioned according to its financial characteristics summarized by the two principal components.\n",
    " - Companies with similar financial profiles are closer together.\n",
    " - Coloring by sector helps visualize how companies from different sectors cluster or spread out in this reduced space."
   ]
  },
  {
   "cell_type": "code",
   "execution_count": 11,
   "id": "058c8606",
   "metadata": {},
   "outputs": [
    {
     "name": "stdout",
     "output_type": "stream",
     "text": [
      "Explained Variance Ratios: [0.30154393 0.23033989]\n",
      "Total Explained Variance (2 components): 0.5318838179962082\n"
     ]
    }
   ],
   "source": [
    "explained_variance = pca.explained_variance_ratio_\n",
    "print(\"Explained Variance Ratios:\", explained_variance)\n",
    "print(\"Total Explained Variance (2 components):\", explained_variance.sum())"
   ]
  },
  {
   "cell_type": "markdown",
   "id": "8b498d18",
   "metadata": {},
   "source": [
    " The cell above calculates and prints the explained variance ratios from the PCA analysis.\n",
    "\n",
    "### Explanation:\n",
    "- explained_variance is a numpy array containing the proportion of variance explained by each principal component (from the PCA performed earlier).\n",
    "- The first print statement shows the variance explained by each of the two principal components.\n",
    "- The second print statement shows the total variance explained by both components combined.\n",
    "\n",
    "This helps you understand how much of the original data's variability is captured by the two principal components used in the PCA plot."
   ]
  }
 ],
 "metadata": {
  "kernelspec": {
   "display_name": "Python 3",
   "language": "python",
   "name": "python3"
  },
  "language_info": {
   "codemirror_mode": {
    "name": "ipython",
    "version": 3
   },
   "file_extension": ".py",
   "mimetype": "text/x-python",
   "name": "python",
   "nbconvert_exporter": "python",
   "pygments_lexer": "ipython3",
   "version": "3.12.1"
  }
 },
 "nbformat": 4,
 "nbformat_minor": 5
}
