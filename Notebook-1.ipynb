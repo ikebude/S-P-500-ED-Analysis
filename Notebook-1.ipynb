{
    "metadata": {
        "kernelspec": {
            "name": "SQL",
            "display_name": "SQL",
            "language": "sql"
        },
        "language_info": {
            "name": "sql",
            "version": ""
        }
    },
    "nbformat_minor": 2,
    "nbformat": 4,
    "cells": [
        {
            "cell_type": "code",
            "source": [
                "use chidiszn; -- the dtabase name\r\n",
                "\r\n",
                "SELECT TOP (10) [Exchange]\r\n",
                "      ,[Symbol]\r\n",
                "      ,[Shortname]\r\n",
                "      ,[Longname]\r\n",
                "      ,[Sector]\r\n",
                "      ,[Industry]\r\n",
                "      ,[Currentprice]\r\n",
                "      ,[Marketcap]\r\n",
                "      ,[Ebitda]\r\n",
                "      ,[Revenuegrowth]\r\n",
                "      ,[City]\r\n",
                "      ,[State]\r\n",
                "      ,[Country]\r\n",
                "      ,[Fulltimeemployees]\r\n",
                "      ,[Longbusinesssummary]\r\n",
                "      ,[Weight]\r\n",
                "  FROM [chidiszn].[dbo].[sp500_companies] -- Lets look at thedta\r\n",
                "\r\n",
                ""
            ],
            "metadata": {
                "azdata_cell_guid": "9c20a1db-371b-4505-aac5-7836c2be9b41",
                "language": "sql"
            },
            "outputs": [
                {
                    "output_type": "display_data",
                    "data": {
                        "text/html": "(10 rows affected)"
                    },
                    "metadata": {}
                },
                {
                    "output_type": "display_data",
                    "data": {
                        "text/html": "Total execution time: 00:00:00.034"
                    },
                    "metadata": {}
                },
                {
                    "output_type": "execute_result",
                    "metadata": {},
                    "execution_count": 3,
                    "data": {
                        "application/vnd.dataresource+json": {
                            "schema": {
                                "fields": [
                                    {
                                        "name": "Exchange"
                                    },
                                    {
                                        "name": "Symbol"
                                    },
                                    {
                                        "name": "Shortname"
                                    },
                                    {
                                        "name": "Longname"
                                    },
                                    {
                                        "name": "Sector"
                                    },
                                    {
                                        "name": "Industry"
                                    },
                                    {
                                        "name": "Currentprice"
                                    },
                                    {
                                        "name": "Marketcap"
                                    },
                                    {
                                        "name": "Ebitda"
                                    },
                                    {
                                        "name": "Revenuegrowth"
                                    },
                                    {
                                        "name": "City"
                                    },
                                    {
                                        "name": "State"
                                    },
                                    {
                                        "name": "Country"
                                    },
                                    {
                                        "name": "Fulltimeemployees"
                                    },
                                    {
                                        "name": "Longbusinesssummary"
                                    },
                                    {
                                        "name": "Weight"
                                    }
                                ]
                            },
                            "data": [
                                {
                                    "Exchange": "NMS",
                                    "Symbol": "AAPL",
                                    "Shortname": "Apple Inc.",
                                    "Longname": "Apple Inc.",
                                    "Sector": "Technology",
                                    "Industry": "Consumer Electronics",
                                    "Currentprice": "254.49",
                                    "Marketcap": "3846819807232",
                                    "Ebitda": "134660997120",
                                    "Revenuegrowth": "0.061",
                                    "City": "Cupertino",
                                    "State": "CA",
                                    "Country": "United States",
                                    "Fulltimeemployees": "164000",
                                    "Longbusinesssummary": "Apple Inc. designs, manufactures, and markets smartphones, personal computers, tablets, wearables, and accessories worldwide. The company offers iPhone, a line of smartphones; Mac, a line of personal computers; iPad, a line of multi-purpose tablets; and wearables, home, and accessories comprising AirPods, Apple TV, Apple Watch, Beats products, and HomePod. It also provides AppleCare support and cloud services; and operates various platforms, including the App Store that allow customers to discover and download applications and digital content, such as books, music, video, games, and podcasts, as well as advertising services include third-party licensing arrangements and its own advertising platforms. In addition, the company offers various subscription-based services, such as Apple Arcade, a game subscription service; Apple Fitness+, a personalized fitness service; Apple Music, which offers users a curated listening experience with on-demand radio stations; Apple News+, a subscription news and magazine service; Apple TV+, which offers exclusive original content; Apple Card, a co-branded credit card; and Apple Pay, a cashless payment service, as well as licenses its intellectual property. The company serves consumers, and small and mid-sized businesses; and the education, enterprise, and government markets. It distributes third-party applications for its products through the App Store. The company also sells its products through its retail and online stores, and direct sales force; and third-party cellular network carriers, wholesalers, retailers, and resellers. Apple Inc. was founded in 1976 and is headquartered in Cupertino, California.",
                                    "Weight": "0.06920915243972749"
                                },
                                {
                                    "Exchange": "NMS",
                                    "Symbol": "NVDA",
                                    "Shortname": "NVIDIA Corporation",
                                    "Longname": "NVIDIA Corporation",
                                    "Sector": "Technology",
                                    "Industry": "Semiconductors",
                                    "Currentprice": "134.7",
                                    "Marketcap": "3298803056640",
                                    "Ebitda": "61184000000",
                                    "Revenuegrowth": "1.224",
                                    "City": "Santa Clara",
                                    "State": "CA",
                                    "Country": "United States",
                                    "Fulltimeemployees": "29600",
                                    "Longbusinesssummary": "NVIDIA Corporation provides graphics and compute and networking solutions in the United States, Taiwan, China, Hong Kong, and internationally. The Graphics segment offers GeForce GPUs for gaming and PCs, the GeForce NOW game streaming service and related infrastructure, and solutions for gaming platforms; Quadro/NVIDIA RTX GPUs for enterprise workstation graphics; virtual GPU or vGPU software for cloud-based visual and virtual computing; automotive platforms for infotainment systems; and Omniverse software for building and operating metaverse and 3D internet applications. The Compute & Networking segment comprises Data Center computing platforms and end-to-end networking platforms, including Quantum for InfiniBand and Spectrum for Ethernet; NVIDIA DRIVE automated-driving platform and automotive development agreements; Jetson robotics and other embedded platforms; NVIDIA AI Enterprise and other software; and DGX Cloud software and services. The company's products are used in gaming, professional visualization, data center, and automotive markets. It sells its products to original equipment manufacturers, original device manufacturers, system integrators and distributors, independent software vendors, cloud service providers, consumer internet companies, add-in board manufacturers, distributors, automotive manufacturers and tier-1 automotive suppliers, and other ecosystem participants. NVIDIA Corporation was incorporated in 1993 and is headquartered in Santa Clara, California.",
                                    "Weight": "0.059349638157321576"
                                },
                                {
                                    "Exchange": "NMS",
                                    "Symbol": "MSFT",
                                    "Shortname": "Microsoft Corporation",
                                    "Longname": "Microsoft Corporation",
                                    "Sector": "Technology",
                                    "Industry": "Software - Infrastructure",
                                    "Currentprice": "436.6",
                                    "Marketcap": "3246068596736",
                                    "Ebitda": "136551997440",
                                    "Revenuegrowth": "0.16",
                                    "City": "Redmond",
                                    "State": "WA",
                                    "Country": "United States",
                                    "Fulltimeemployees": "228000",
                                    "Longbusinesssummary": "Microsoft Corporation develops and supports software, services, devices and solutions worldwide. The Productivity and Business Processes segment offers office, exchange, SharePoint, Microsoft Teams, office 365 Security and Compliance, Microsoft viva, and Microsoft 365 copilot; and office consumer services, such as Microsoft 365 consumer subscriptions, Office licensed on-premises, and other office services. This segment also provides LinkedIn; and dynamics business solutions, including Dynamics 365, a set of intelligent, cloud-based applications across ERP, CRM, power apps, and power automate; and on-premises ERP and CRM applications. The Intelligent Cloud segment offers server products and cloud services, such as azure and other cloud services; SQL and windows server, visual studio, system center, and related client access licenses, as well as nuance and GitHub; and enterprise services including enterprise support services, industry solutions, and nuance professional services. The More Personal Computing segment offers Windows, including windows OEM licensing and other non-volume licensing of the Windows operating system; Windows commercial comprising volume licensing of the Windows operating system, windows cloud services, and other Windows commercial offerings; patent licensing; and windows Internet of Things; and devices, such as surface, HoloLens, and PC accessories. Additionally, this segment provides gaming, which includes Xbox hardware and content, and first- and third-party content; Xbox game pass and other subscriptions, cloud gaming, advertising, third-party disc royalties, and other cloud services; and search and news advertising, which includes Bing, Microsoft News and Edge, and third-party affiliates. The company sells its products through OEMs, distributors, and resellers; and directly through digital marketplaces, online, and retail stores. The company was founded in 1975 and is headquartered in Redmond, Washington.",
                                    "Weight": "0.058400878543611257"
                                },
                                {
                                    "Exchange": "NMS",
                                    "Symbol": "AMZN",
                                    "Shortname": "Amazon.com, Inc.",
                                    "Longname": "Amazon.com, Inc.",
                                    "Sector": "Consumer Cyclical",
                                    "Industry": "Internet Retail",
                                    "Currentprice": "224.92",
                                    "Marketcap": "2365033807872",
                                    "Ebitda": "111583002624",
                                    "Revenuegrowth": "0.11",
                                    "City": "Seattle",
                                    "State": "WA",
                                    "Country": "United States",
                                    "Fulltimeemployees": "1551000",
                                    "Longbusinesssummary": "Amazon.com, Inc. engages in the retail sale of consumer products, advertising, and subscriptions service through online and physical stores in North America and internationally. The company operates through three segments: North America, International, and Amazon Web Services (AWS). It also manufactures and sells electronic devices, including Kindle, Fire tablets, Fire TVs, Echo, Ring, Blink, and eero; and develops and produces media content. In addition, the company offers programs that enable sellers to sell their products in its stores; and programs that allow authors, independent publishers, musicians, filmmakers, Twitch streamers, skill and app developers, and others to publish and sell content. Further, it provides compute, storage, database, analytics, machine learning, and other services, as well as advertising services through programs, such as sponsored ads, display, and video advertising. Additionally, the company offers Amazon Prime, a membership program. The company's products offered through its stores include merchandise and content purchased for resale and products offered by third-party sellers. It serves consumers, sellers, developers, enterprises, content creators, advertisers, and employees. Amazon.com, Inc. was incorporated in 1994 and is headquartered in Seattle, Washington.",
                                    "Weight": "0.04254994866835228"
                                },
                                {
                                    "Exchange": "NMS",
                                    "Symbol": "GOOGL",
                                    "Shortname": "Alphabet Inc.",
                                    "Longname": "Alphabet Inc.",
                                    "Sector": "Communication Services",
                                    "Industry": "Internet Content & Information",
                                    "Currentprice": "191.41",
                                    "Marketcap": "2351625142272",
                                    "Ebitda": "123469996032",
                                    "Revenuegrowth": "0.151",
                                    "City": "Mountain View",
                                    "State": "CA",
                                    "Country": "United States",
                                    "Fulltimeemployees": "181269",
                                    "Longbusinesssummary": "Alphabet Inc. offers various products and platforms in the United States, Europe, the Middle East, Africa, the Asia-Pacific, Canada, and Latin America. It operates through Google Services, Google Cloud, and Other Bets segments. The Google Services segment provides products and services, including ads, Android, Chrome, devices, Gmail, Google Drive, Google Maps, Google Photos, Google Play, Search, and YouTube. It is also involved in the sale of apps and in-app purchases and digital content in the Google Play and YouTube; and devices, as well as in the provision of YouTube consumer subscription services. The Google Cloud segment offers infrastructure, cybersecurity, databases, analytics, AI, and other services; Google Workspace that include cloud-based communication and collaboration tools for enterprises, such as Gmail, Docs, Drive, Calendar, and Meet; and other services for enterprise customers. The Other Bets segment sells healthcare-related and internet services. The company was incorporated in 1998 and is headquartered in Mountain View, California.",
                                    "Weight": "0.042308709819633895"
                                },
                                {
                                    "Exchange": "NMS",
                                    "Symbol": "GOOG",
                                    "Shortname": "Alphabet Inc.",
                                    "Longname": "Alphabet Inc.",
                                    "Sector": "Communication Services",
                                    "Industry": "Internet Content & Information",
                                    "Currentprice": "192.96",
                                    "Marketcap": "2351623045120",
                                    "Ebitda": "123469996032",
                                    "Revenuegrowth": "0.151",
                                    "City": "Mountain View",
                                    "State": "CA",
                                    "Country": "United States",
                                    "Fulltimeemployees": "181269",
                                    "Longbusinesssummary": "Alphabet Inc. offers various products and platforms in the United States, Europe, the Middle East, Africa, the Asia-Pacific, Canada, and Latin America. It operates through Google Services, Google Cloud, and Other Bets segments. The Google Services segment provides products and services, including ads, Android, Chrome, devices, Gmail, Google Drive, Google Maps, Google Photos, Google Play, Search, and YouTube. It is also involved in the sale of apps and in-app purchases and digital content in the Google Play and YouTube; and devices, as well as in the provision of YouTube consumer subscription services. The Google Cloud segment offers infrastructure, cybersecurity, databases, analytics, AI, and other services; Google Workspace that include cloud-based communication and collaboration tools for enterprises, such as Gmail, Docs, Drive, Calendar, and Meet; and other services for enterprise customers. The Other Bets segment sells healthcare-related and internet services. The company was incorporated in 1998 and is headquartered in Mountain View, California.",
                                    "Weight": "0.042308672089217673"
                                },
                                {
                                    "Exchange": "NMS",
                                    "Symbol": "META",
                                    "Shortname": "Meta Platforms, Inc.",
                                    "Longname": "Meta Platforms, Inc.",
                                    "Sector": "Communication Services",
                                    "Industry": "Internet Content & Information",
                                    "Currentprice": "585.25",
                                    "Marketcap": "1477457739776",
                                    "Ebitda": "79208996864",
                                    "Revenuegrowth": "0.189",
                                    "City": "Menlo Park",
                                    "State": "CA",
                                    "Country": "United States",
                                    "Fulltimeemployees": "72404",
                                    "Longbusinesssummary": "Meta Platforms, Inc. engages in the development of products that enable people to connect and share with friends and family through mobile devices, personal computers, virtual reality headsets, and wearables worldwide. It operates in two segments, Family of Apps and Reality Labs. The Family of Apps segment offers Facebook, which enables people to share, discuss, discover, and connect with interests; Instagram, a community for sharing photos, videos, and private messages, as well as feed, stories, reels, video, live, and shops; Messenger, a messaging application for people to connect with friends, family, communities, and businesses across platforms and devices through text, audio, and video calls; and WhatsApp, a messaging application that is used by people and businesses to communicate and transact privately. The Reality Labs segment provides augmented and virtual reality related products comprising consumer hardware, software, and content that help people feel connected, anytime, and anywhere. The company was formerly known as Facebook, Inc. and changed its name to Meta Platforms, Inc. in October 2021. The company was incorporated in 2004 and is headquartered in Menlo Park, California",
                                    "Weight": "0.026581332908595358"
                                },
                                {
                                    "Exchange": "NMS",
                                    "Symbol": "TSLA",
                                    "Shortname": "Tesla, Inc.",
                                    "Longname": "Tesla, Inc.",
                                    "Sector": "Consumer Cyclical",
                                    "Industry": "Auto Manufacturers",
                                    "Currentprice": "421.06",
                                    "Marketcap": "1351627833344",
                                    "Ebitda": "13244000256",
                                    "Revenuegrowth": "0.078",
                                    "City": "Austin",
                                    "State": "TX",
                                    "Country": "United States",
                                    "Fulltimeemployees": "140473",
                                    "Longbusinesssummary": "Tesla, Inc. designs, develops, manufactures, leases, and sells electric vehicles, and energy generation and storage systems in the United States, China, and internationally. The company operates in two segments, Automotive, and Energy Generation and Storage. The Automotive segment offers electric vehicles, as well as sells automotive regulatory credits; and non-warranty after-sales vehicle, used vehicles, body shop and parts, supercharging, retail merchandise, and vehicle insurance services. This segment also provides sedans and sport utility vehicles through direct and used vehicle sales, a network of Tesla Superchargers, and in-app upgrades; purchase financing and leasing services; services for electric vehicles through its company-owned service locations and Tesla mobile service technicians; and vehicle limited warranties and extended service plans. The Energy Generation and Storage segment engages in the design, manufacture, installation, sale, and leasing of solar energy generation and energy storage products, and related services to residential, commercial, and industrial customers and utilities through its website, stores, and galleries, as well as through a network of channel partners; and provision of service and repairs to its energy product customers, including under warranty, as well as various financing options to its solar customers. The company was formerly known as Tesla Motors, Inc. and changed its name to Tesla, Inc. in February 2017. Tesla, Inc. was incorporated in 2003 and is headquartered in Austin, Texas.",
                                    "Weight": "0.02431749378637891"
                                },
                                {
                                    "Exchange": "NMS",
                                    "Symbol": "AVGO",
                                    "Shortname": "Broadcom Inc.",
                                    "Longname": "Broadcom Inc.",
                                    "Sector": "Technology",
                                    "Industry": "Semiconductors",
                                    "Currentprice": "220.79",
                                    "Marketcap": "1031217348608",
                                    "Ebitda": "22958000128",
                                    "Revenuegrowth": "0.164",
                                    "City": "Palo Alto",
                                    "State": "CA",
                                    "Country": "United States",
                                    "Fulltimeemployees": "20000",
                                    "Longbusinesssummary": "Broadcom Inc. designs, develops, and supplies various semiconductor devices with a focus on complex digital and mixed signal complementary metal oxide semiconductor based devices and analog III-V based products worldwide. The company operates in two segments, Semiconductor Solutions and Infrastructure Software. It provides set-top box system-on-chips (SoCs); cable, digital subscriber line, and passive optical networking central office/consumer premise equipment SoCs; wireless local area network access point SoCs; Ethernet switching and routing custom silicon solutions; serializer/deserializer application specific integrated circuits; optical and copper, and physical layer devices; and fiber optic components and RF semiconductor devices. The company also offers RF front end modules and filter; Wi-Fi, Bluetooth, and global positioning system/global navigation satellite system SoCs; custom touch controllers; inductive charging; attached small computer system interface, and redundant array of independent disks controllers and adapters; peripheral component interconnect express; fiber channel host bus adapters; read channel based SoCs; custom flash controllers; preamplifiers; optocouplers, industrial fiber optics, and motion control encoders and subsystems; light emitting diode, ethernet PHYs, switch ICs, and camera microcontrollers. Its products are used in various applications, including enterprise and data center networking, home connectivity, set-top boxes, broadband access, telecommunication equipment, smartphones and base stations, data center servers and storage systems, factory automation, power generation and alternative energy systems, and electronic displays. Broadcom Inc. was founded in 1961 and is headquartered in Palo Alto, California.",
                                    "Weight": "0.018552904023247482"
                                },
                                {
                                    "Exchange": "NYQ",
                                    "Symbol": "BRK-B",
                                    "Shortname": "Berkshire Hathaway Inc. New",
                                    "Longname": "Berkshire Hathaway Inc.",
                                    "Sector": "Financial Services",
                                    "Industry": "Insurance - Diversified",
                                    "Currentprice": "453.2",
                                    "Marketcap": "978776031232",
                                    "Ebitda": "149547008000",
                                    "Revenuegrowth": "-0.002",
                                    "City": "Omaha",
                                    "State": "NE",
                                    "Country": "United States",
                                    "Fulltimeemployees": "396500",
                                    "Longbusinesssummary": "Berkshire Hathaway Inc., through its subsidiaries, engages in the insurance, freight rail transportation, and utility businesses worldwide. The company provides property, casualty, life, accident, and health insurance and reinsurance; and operates railroad systems in North America. It also generates, transmits, stores, and distributes electricity from natural gas, coal, wind, solar, hydroelectric, nuclear, and geothermal sources; operates natural gas distribution and storage facilities, interstate pipelines, liquefied natural gas facilities, and compressor and meter stations; and holds interest in coal mining assets. In addition, the company manufactures boxed chocolates and other confectionery products; specialty chemicals, metal cutting tools, and components for aerospace and power generation applications; flooring products; insulation, roofing, and engineered products; building and engineered components; paints and coatings; and bricks and masonry products, as well as offers manufactured and site-built home construction, and related lending and financial services. Further, it provides recreational vehicles, apparel and footwear products, jewelry, and custom picture framing products, as well as alkaline batteries; castings, forgings, fasteners/fastener systems, aerostructures, and precision components; and cobalt, nickel, and titanium alloys. Additionally, the company distributes televisions and information; franchises and services quick service restaurants; distributes electronic components; and offers logistics services, grocery and foodservice distribution services, and professional aviation training and shared aircraft ownership programs. It also retails automobiles; furniture, bedding, and accessories; household appliances, electronics, and computers; jewelry, watches, crystal, china, stemware, flatware, gifts, and collectibles; kitchenware; and motorcycle clothing and equipment. The company was incorporated in 1998 and is headquartered in Omaha, Nebraska.",
                                    "Weight": "0.01760941841427967"
                                }
                            ]
                        },
                        "text/html": [
                            "<table>",
                            "<tr><th>Exchange</th><th>Symbol</th><th>Shortname</th><th>Longname</th><th>Sector</th><th>Industry</th><th>Currentprice</th><th>Marketcap</th><th>Ebitda</th><th>Revenuegrowth</th><th>City</th><th>State</th><th>Country</th><th>Fulltimeemployees</th><th>Longbusinesssummary</th><th>Weight</th></tr>",
                            "<tr><td>NMS</td><td>AAPL</td><td>Apple Inc.</td><td>Apple Inc.</td><td>Technology</td><td>Consumer Electronics</td><td>254.49</td><td>3846819807232</td><td>134660997120</td><td>0.061</td><td>Cupertino</td><td>CA</td><td>United States</td><td>164000</td><td>Apple Inc. designs, manufactures, and markets smartphones, personal computers, tablets, wearables, and accessories worldwide. The company offers iPhone, a line of smartphones; Mac, a line of personal computers; iPad, a line of multi-purpose tablets; and wearables, home, and accessories comprising AirPods, Apple TV, Apple Watch, Beats products, and HomePod. It also provides AppleCare support and cloud services; and operates various platforms, including the App Store that allow customers to discover and download applications and digital content, such as books, music, video, games, and podcasts, as well as advertising services include third-party licensing arrangements and its own advertising platforms. In addition, the company offers various subscription-based services, such as Apple Arcade, a game subscription service; Apple Fitness+, a personalized fitness service; Apple Music, which offers users a curated listening experience with on-demand radio stations; Apple News+, a subscription news and magazine service; Apple TV+, which offers exclusive original content; Apple Card, a co-branded credit card; and Apple Pay, a cashless payment service, as well as licenses its intellectual property. The company serves consumers, and small and mid-sized businesses; and the education, enterprise, and government markets. It distributes third-party applications for its products through the App Store. The company also sells its products through its retail and online stores, and direct sales force; and third-party cellular network carriers, wholesalers, retailers, and resellers. Apple Inc. was founded in 1976 and is headquartered in Cupertino, California.</td><td>0.06920915243972749</td></tr>",
                            "<tr><td>NMS</td><td>NVDA</td><td>NVIDIA Corporation</td><td>NVIDIA Corporation</td><td>Technology</td><td>Semiconductors</td><td>134.7</td><td>3298803056640</td><td>61184000000</td><td>1.224</td><td>Santa Clara</td><td>CA</td><td>United States</td><td>29600</td><td>NVIDIA Corporation provides graphics and compute and networking solutions in the United States, Taiwan, China, Hong Kong, and internationally. The Graphics segment offers GeForce GPUs for gaming and PCs, the GeForce NOW game streaming service and related infrastructure, and solutions for gaming platforms; Quadro/NVIDIA RTX GPUs for enterprise workstation graphics; virtual GPU or vGPU software for cloud-based visual and virtual computing; automotive platforms for infotainment systems; and Omniverse software for building and operating metaverse and 3D internet applications. The Compute &amp; Networking segment comprises Data Center computing platforms and end-to-end networking platforms, including Quantum for InfiniBand and Spectrum for Ethernet; NVIDIA DRIVE automated-driving platform and automotive development agreements; Jetson robotics and other embedded platforms; NVIDIA AI Enterprise and other software; and DGX Cloud software and services. The company&#39;s products are used in gaming, professional visualization, data center, and automotive markets. It sells its products to original equipment manufacturers, original device manufacturers, system integrators and distributors, independent software vendors, cloud service providers, consumer internet companies, add-in board manufacturers, distributors, automotive manufacturers and tier-1 automotive suppliers, and other ecosystem participants. NVIDIA Corporation was incorporated in 1993 and is headquartered in Santa Clara, California.</td><td>0.059349638157321576</td></tr>",
                            "<tr><td>NMS</td><td>MSFT</td><td>Microsoft Corporation</td><td>Microsoft Corporation</td><td>Technology</td><td>Software - Infrastructure</td><td>436.6</td><td>3246068596736</td><td>136551997440</td><td>0.16</td><td>Redmond</td><td>WA</td><td>United States</td><td>228000</td><td>Microsoft Corporation develops and supports software, services, devices and solutions worldwide. The Productivity and Business Processes segment offers office, exchange, SharePoint, Microsoft Teams, office 365 Security and Compliance, Microsoft viva, and Microsoft 365 copilot; and office consumer services, such as Microsoft 365 consumer subscriptions, Office licensed on-premises, and other office services. This segment also provides LinkedIn; and dynamics business solutions, including Dynamics 365, a set of intelligent, cloud-based applications across ERP, CRM, power apps, and power automate; and on-premises ERP and CRM applications. The Intelligent Cloud segment offers server products and cloud services, such as azure and other cloud services; SQL and windows server, visual studio, system center, and related client access licenses, as well as nuance and GitHub; and enterprise services including enterprise support services, industry solutions, and nuance professional services. The More Personal Computing segment offers Windows, including windows OEM licensing and other non-volume licensing of the Windows operating system; Windows commercial comprising volume licensing of the Windows operating system, windows cloud services, and other Windows commercial offerings; patent licensing; and windows Internet of Things; and devices, such as surface, HoloLens, and PC accessories. Additionally, this segment provides gaming, which includes Xbox hardware and content, and first- and third-party content; Xbox game pass and other subscriptions, cloud gaming, advertising, third-party disc royalties, and other cloud services; and search and news advertising, which includes Bing, Microsoft News and Edge, and third-party affiliates. The company sells its products through OEMs, distributors, and resellers; and directly through digital marketplaces, online, and retail stores. The company was founded in 1975 and is headquartered in Redmond, Washington.</td><td>0.058400878543611257</td></tr>",
                            "<tr><td>NMS</td><td>AMZN</td><td>Amazon.com, Inc.</td><td>Amazon.com, Inc.</td><td>Consumer Cyclical</td><td>Internet Retail</td><td>224.92</td><td>2365033807872</td><td>111583002624</td><td>0.11</td><td>Seattle</td><td>WA</td><td>United States</td><td>1551000</td><td>Amazon.com, Inc. engages in the retail sale of consumer products, advertising, and subscriptions service through online and physical stores in North America and internationally. The company operates through three segments: North America, International, and Amazon Web Services (AWS). It also manufactures and sells electronic devices, including Kindle, Fire tablets, Fire TVs, Echo, Ring, Blink, and eero; and develops and produces media content. In addition, the company offers programs that enable sellers to sell their products in its stores; and programs that allow authors, independent publishers, musicians, filmmakers, Twitch streamers, skill and app developers, and others to publish and sell content. Further, it provides compute, storage, database, analytics, machine learning, and other services, as well as advertising services through programs, such as sponsored ads, display, and video advertising. Additionally, the company offers Amazon Prime, a membership program. The company&#39;s products offered through its stores include merchandise and content purchased for resale and products offered by third-party sellers. It serves consumers, sellers, developers, enterprises, content creators, advertisers, and employees. Amazon.com, Inc. was incorporated in 1994 and is headquartered in Seattle, Washington.</td><td>0.04254994866835228</td></tr>",
                            "<tr><td>NMS</td><td>GOOGL</td><td>Alphabet Inc.</td><td>Alphabet Inc.</td><td>Communication Services</td><td>Internet Content &amp; Information</td><td>191.41</td><td>2351625142272</td><td>123469996032</td><td>0.151</td><td>Mountain View</td><td>CA</td><td>United States</td><td>181269</td><td>Alphabet Inc. offers various products and platforms in the United States, Europe, the Middle East, Africa, the Asia-Pacific, Canada, and Latin America. It operates through Google Services, Google Cloud, and Other Bets segments. The Google Services segment provides products and services, including ads, Android, Chrome, devices, Gmail, Google Drive, Google Maps, Google Photos, Google Play, Search, and YouTube. It is also involved in the sale of apps and in-app purchases and digital content in the Google Play and YouTube; and devices, as well as in the provision of YouTube consumer subscription services. The Google Cloud segment offers infrastructure, cybersecurity, databases, analytics, AI, and other services; Google Workspace that include cloud-based communication and collaboration tools for enterprises, such as Gmail, Docs, Drive, Calendar, and Meet; and other services for enterprise customers. The Other Bets segment sells healthcare-related and internet services. The company was incorporated in 1998 and is headquartered in Mountain View, California.</td><td>0.042308709819633895</td></tr>",
                            "<tr><td>NMS</td><td>GOOG</td><td>Alphabet Inc.</td><td>Alphabet Inc.</td><td>Communication Services</td><td>Internet Content &amp; Information</td><td>192.96</td><td>2351623045120</td><td>123469996032</td><td>0.151</td><td>Mountain View</td><td>CA</td><td>United States</td><td>181269</td><td>Alphabet Inc. offers various products and platforms in the United States, Europe, the Middle East, Africa, the Asia-Pacific, Canada, and Latin America. It operates through Google Services, Google Cloud, and Other Bets segments. The Google Services segment provides products and services, including ads, Android, Chrome, devices, Gmail, Google Drive, Google Maps, Google Photos, Google Play, Search, and YouTube. It is also involved in the sale of apps and in-app purchases and digital content in the Google Play and YouTube; and devices, as well as in the provision of YouTube consumer subscription services. The Google Cloud segment offers infrastructure, cybersecurity, databases, analytics, AI, and other services; Google Workspace that include cloud-based communication and collaboration tools for enterprises, such as Gmail, Docs, Drive, Calendar, and Meet; and other services for enterprise customers. The Other Bets segment sells healthcare-related and internet services. The company was incorporated in 1998 and is headquartered in Mountain View, California.</td><td>0.042308672089217673</td></tr>",
                            "<tr><td>NMS</td><td>META</td><td>Meta Platforms, Inc.</td><td>Meta Platforms, Inc.</td><td>Communication Services</td><td>Internet Content &amp; Information</td><td>585.25</td><td>1477457739776</td><td>79208996864</td><td>0.189</td><td>Menlo Park</td><td>CA</td><td>United States</td><td>72404</td><td>Meta Platforms, Inc. engages in the development of products that enable people to connect and share with friends and family through mobile devices, personal computers, virtual reality headsets, and wearables worldwide. It operates in two segments, Family of Apps and Reality Labs. The Family of Apps segment offers Facebook, which enables people to share, discuss, discover, and connect with interests; Instagram, a community for sharing photos, videos, and private messages, as well as feed, stories, reels, video, live, and shops; Messenger, a messaging application for people to connect with friends, family, communities, and businesses across platforms and devices through text, audio, and video calls; and WhatsApp, a messaging application that is used by people and businesses to communicate and transact privately. The Reality Labs segment provides augmented and virtual reality related products comprising consumer hardware, software, and content that help people feel connected, anytime, and anywhere. The company was formerly known as Facebook, Inc. and changed its name to Meta Platforms, Inc. in October 2021. The company was incorporated in 2004 and is headquartered in Menlo Park, California</td><td>0.026581332908595358</td></tr>",
                            "<tr><td>NMS</td><td>TSLA</td><td>Tesla, Inc.</td><td>Tesla, Inc.</td><td>Consumer Cyclical</td><td>Auto Manufacturers</td><td>421.06</td><td>1351627833344</td><td>13244000256</td><td>0.078</td><td>Austin</td><td>TX</td><td>United States</td><td>140473</td><td>Tesla, Inc. designs, develops, manufactures, leases, and sells electric vehicles, and energy generation and storage systems in the United States, China, and internationally. The company operates in two segments, Automotive, and Energy Generation and Storage. The Automotive segment offers electric vehicles, as well as sells automotive regulatory credits; and non-warranty after-sales vehicle, used vehicles, body shop and parts, supercharging, retail merchandise, and vehicle insurance services. This segment also provides sedans and sport utility vehicles through direct and used vehicle sales, a network of Tesla Superchargers, and in-app upgrades; purchase financing and leasing services; services for electric vehicles through its company-owned service locations and Tesla mobile service technicians; and vehicle limited warranties and extended service plans. The Energy Generation and Storage segment engages in the design, manufacture, installation, sale, and leasing of solar energy generation and energy storage products, and related services to residential, commercial, and industrial customers and utilities through its website, stores, and galleries, as well as through a network of channel partners; and provision of service and repairs to its energy product customers, including under warranty, as well as various financing options to its solar customers. The company was formerly known as Tesla Motors, Inc. and changed its name to Tesla, Inc. in February 2017. Tesla, Inc. was incorporated in 2003 and is headquartered in Austin, Texas.</td><td>0.02431749378637891</td></tr>",
                            "<tr><td>NMS</td><td>AVGO</td><td>Broadcom Inc.</td><td>Broadcom Inc.</td><td>Technology</td><td>Semiconductors</td><td>220.79</td><td>1031217348608</td><td>22958000128</td><td>0.164</td><td>Palo Alto</td><td>CA</td><td>United States</td><td>20000</td><td>Broadcom Inc. designs, develops, and supplies various semiconductor devices with a focus on complex digital and mixed signal complementary metal oxide semiconductor based devices and analog III-V based products worldwide. The company operates in two segments, Semiconductor Solutions and Infrastructure Software. It provides set-top box system-on-chips (SoCs); cable, digital subscriber line, and passive optical networking central office/consumer premise equipment SoCs; wireless local area network access point SoCs; Ethernet switching and routing custom silicon solutions; serializer/deserializer application specific integrated circuits; optical and copper, and physical layer devices; and fiber optic components and RF semiconductor devices. The company also offers RF front end modules and filter; Wi-Fi, Bluetooth, and global positioning system/global navigation satellite system SoCs; custom touch controllers; inductive charging; attached small computer system interface, and redundant array of independent disks controllers and adapters; peripheral component interconnect express; fiber channel host bus adapters; read channel based SoCs; custom flash controllers; preamplifiers; optocouplers, industrial fiber optics, and motion control encoders and subsystems; light emitting diode, ethernet PHYs, switch ICs, and camera microcontrollers. Its products are used in various applications, including enterprise and data center networking, home connectivity, set-top boxes, broadband access, telecommunication equipment, smartphones and base stations, data center servers and storage systems, factory automation, power generation and alternative energy systems, and electronic displays. Broadcom Inc. was founded in 1961 and is headquartered in Palo Alto, California.</td><td>0.018552904023247482</td></tr>",
                            "<tr><td>NYQ</td><td>BRK-B</td><td>Berkshire Hathaway Inc. New</td><td>Berkshire Hathaway Inc.</td><td>Financial Services</td><td>Insurance - Diversified</td><td>453.2</td><td>978776031232</td><td>149547008000</td><td>-0.002</td><td>Omaha</td><td>NE</td><td>United States</td><td>396500</td><td>Berkshire Hathaway Inc., through its subsidiaries, engages in the insurance, freight rail transportation, and utility businesses worldwide. The company provides property, casualty, life, accident, and health insurance and reinsurance; and operates railroad systems in North America. It also generates, transmits, stores, and distributes electricity from natural gas, coal, wind, solar, hydroelectric, nuclear, and geothermal sources; operates natural gas distribution and storage facilities, interstate pipelines, liquefied natural gas facilities, and compressor and meter stations; and holds interest in coal mining assets. In addition, the company manufactures boxed chocolates and other confectionery products; specialty chemicals, metal cutting tools, and components for aerospace and power generation applications; flooring products; insulation, roofing, and engineered products; building and engineered components; paints and coatings; and bricks and masonry products, as well as offers manufactured and site-built home construction, and related lending and financial services. Further, it provides recreational vehicles, apparel and footwear products, jewelry, and custom picture framing products, as well as alkaline batteries; castings, forgings, fasteners/fastener systems, aerostructures, and precision components; and cobalt, nickel, and titanium alloys. Additionally, the company distributes televisions and information; franchises and services quick service restaurants; distributes electronic components; and offers logistics services, grocery and foodservice distribution services, and professional aviation training and shared aircraft ownership programs. It also retails automobiles; furniture, bedding, and accessories; household appliances, electronics, and computers; jewelry, watches, crystal, china, stemware, flatware, gifts, and collectibles; kitchenware; and motorcycle clothing and equipment. The company was incorporated in 1998 and is headquartered in Omaha, Nebraska.</td><td>0.01760941841427967</td></tr>",
                            "</table>"
                        ]
                    }
                }
            ],
            "execution_count": 3
        },
        {
            "cell_type": "code",
            "source": [
                ""
            ],
            "metadata": {
                "azdata_cell_guid": "ccfbd5e6-adf7-4a04-88a1-0c6f6dbf01b6",
                "language": "sql"
            },
            "outputs": [],
            "execution_count": null
        }
    ]
}