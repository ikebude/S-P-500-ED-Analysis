{
    "metadata": {
        "kernelspec": {
            "name": "SQL",
            "display_name": "SQL",
            "language": "sql"
        },
        "language_info": {
            "name": "sql",
            "version": ""
        }
    },
    "nbformat_minor": 2,
    "nbformat": 4,
    "cells": [
        {
            "cell_type": "markdown",
            "source": [
                "**<u>Introduction</u>**\n",
                "\n",
                "This project analyzes the S&P 500 companies using SQL for data processing and Power BI for visualization. The goal is to uncover market trends, sector distributions, and financial insights."
            ],
            "metadata": {
                "language": "",
                "azdata_cell_guid": "cde21e0e-390b-4488-b663-d41c562390b3"
            },
            "attachments": {}
        },
        {
            "cell_type": "code",
            "source": [
                "use chidiszn; -- the database name.\r\n",
                "\r\n",
                "SELECT TOP (10) [Exchange]\r\n",
                "      ,[Symbol]\r\n",
                "      ,[Shortname]\r\n",
                "      ,[Longname]\r\n",
                "      ,[Sector]\r\n",
                "      ,[Industry]\r\n",
                "      ,[Currentprice]\r\n",
                "      ,[Marketcap]\r\n",
                "      ,[Ebitda]\r\n",
                "      ,[Revenuegrowth]\r\n",
                "      ,[City]\r\n",
                "      ,[State]\r\n",
                "      ,[Country]\r\n",
                "      ,[Fulltimeemployees]\r\n",
                "      ,[Longbusinesssummary]\r\n",
                "      ,[Weight] AS sp500_companies_cleaned\r\n",
                "  FROM [chidiszn].[dbo].[sp500_companies] -- Lets look at the data.\r\n",
                "\r\n",
                ""
            ],
            "metadata": {
                "azdata_cell_guid": "9c20a1db-371b-4505-aac5-7836c2be9b41",
                "language": "sql"
            },
            "outputs": [
                {
                    "output_type": "display_data",
                    "data": {
                        "text/html": "(10 rows affected)"
                    },
                    "metadata": {}
                },
                {
                    "output_type": "display_data",
                    "data": {
                        "text/html": "Total execution time: 00:00:00.034"
                    },
                    "metadata": {}
                },
                {
                    "output_type": "execute_result",
                    "metadata": {},
                    "execution_count": 1,
                    "data": {
                        "application/vnd.dataresource+json": {
                            "schema": {
                                "fields": [
                                    {
                                        "name": "Exchange"
                                    },
                                    {
                                        "name": "Symbol"
                                    },
                                    {
                                        "name": "Shortname"
                                    },
                                    {
                                        "name": "Longname"
                                    },
                                    {
                                        "name": "Sector"
                                    },
                                    {
                                        "name": "Industry"
                                    },
                                    {
                                        "name": "Currentprice"
                                    },
                                    {
                                        "name": "Marketcap"
                                    },
                                    {
                                        "name": "Ebitda"
                                    },
                                    {
                                        "name": "Revenuegrowth"
                                    },
                                    {
                                        "name": "City"
                                    },
                                    {
                                        "name": "State"
                                    },
                                    {
                                        "name": "Country"
                                    },
                                    {
                                        "name": "Fulltimeemployees"
                                    },
                                    {
                                        "name": "Longbusinesssummary"
                                    },
                                    {
                                        "name": "sp500_companies_cleaned"
                                    }
                                ]
                            },
                            "data": [
                                {
                                    "Exchange": "NMS",
                                    "Symbol": "AAPL",
                                    "Shortname": "Apple Inc.",
                                    "Longname": "Apple Inc.",
                                    "Sector": "Technology",
                                    "Industry": "Consumer Electronics",
                                    "Currentprice": "254.49",
                                    "Marketcap": "3846819807232",
                                    "Ebitda": "134660997120",
                                    "Revenuegrowth": "0.061",
                                    "City": "Cupertino",
                                    "State": "CA",
                                    "Country": "United States",
                                    "Fulltimeemployees": "164000",
                                    "Longbusinesssummary": "Apple Inc. designs, manufactures, and markets smartphones, personal computers, tablets, wearables, and accessories worldwide. The company offers iPhone, a line of smartphones; Mac, a line of personal computers; iPad, a line of multi-purpose tablets; and wearables, home, and accessories comprising AirPods, Apple TV, Apple Watch, Beats products, and HomePod. It also provides AppleCare support and cloud services; and operates various platforms, including the App Store that allow customers to discover and download applications and digital content, such as books, music, video, games, and podcasts, as well as advertising services include third-party licensing arrangements and its own advertising platforms. In addition, the company offers various subscription-based services, such as Apple Arcade, a game subscription service; Apple Fitness+, a personalized fitness service; Apple Music, which offers users a curated listening experience with on-demand radio stations; Apple News+, a subscription news and magazine service; Apple TV+, which offers exclusive original content; Apple Card, a co-branded credit card; and Apple Pay, a cashless payment service, as well as licenses its intellectual property. The company serves consumers, and small and mid-sized businesses; and the education, enterprise, and government markets. It distributes third-party applications for its products through the App Store. The company also sells its products through its retail and online stores, and direct sales force; and third-party cellular network carriers, wholesalers, retailers, and resellers. Apple Inc. was founded in 1976 and is headquartered in Cupertino, California.",
                                    "sp500_companies_cleaned": "0.06920915243972749"
                                },
                                {
                                    "Exchange": "NMS",
                                    "Symbol": "NVDA",
                                    "Shortname": "NVIDIA Corporation",
                                    "Longname": "NVIDIA Corporation",
                                    "Sector": "Technology",
                                    "Industry": "Semiconductors",
                                    "Currentprice": "134.7",
                                    "Marketcap": "3298803056640",
                                    "Ebitda": "61184000000",
                                    "Revenuegrowth": "1.224",
                                    "City": "Santa Clara",
                                    "State": "CA",
                                    "Country": "United States",
                                    "Fulltimeemployees": "29600",
                                    "Longbusinesssummary": "NVIDIA Corporation provides graphics and compute and networking solutions in the United States, Taiwan, China, Hong Kong, and internationally. The Graphics segment offers GeForce GPUs for gaming and PCs, the GeForce NOW game streaming service and related infrastructure, and solutions for gaming platforms; Quadro/NVIDIA RTX GPUs for enterprise workstation graphics; virtual GPU or vGPU software for cloud-based visual and virtual computing; automotive platforms for infotainment systems; and Omniverse software for building and operating metaverse and 3D internet applications. The Compute & Networking segment comprises Data Center computing platforms and end-to-end networking platforms, including Quantum for InfiniBand and Spectrum for Ethernet; NVIDIA DRIVE automated-driving platform and automotive development agreements; Jetson robotics and other embedded platforms; NVIDIA AI Enterprise and other software; and DGX Cloud software and services. The company's products are used in gaming, professional visualization, data center, and automotive markets. It sells its products to original equipment manufacturers, original device manufacturers, system integrators and distributors, independent software vendors, cloud service providers, consumer internet companies, add-in board manufacturers, distributors, automotive manufacturers and tier-1 automotive suppliers, and other ecosystem participants. NVIDIA Corporation was incorporated in 1993 and is headquartered in Santa Clara, California.",
                                    "sp500_companies_cleaned": "0.059349638157321576"
                                },
                                {
                                    "Exchange": "NMS",
                                    "Symbol": "MSFT",
                                    "Shortname": "Microsoft Corporation",
                                    "Longname": "Microsoft Corporation",
                                    "Sector": "Technology",
                                    "Industry": "Software - Infrastructure",
                                    "Currentprice": "436.6",
                                    "Marketcap": "3246068596736",
                                    "Ebitda": "136551997440",
                                    "Revenuegrowth": "0.16",
                                    "City": "Redmond",
                                    "State": "WA",
                                    "Country": "United States",
                                    "Fulltimeemployees": "228000",
                                    "Longbusinesssummary": "Microsoft Corporation develops and supports software, services, devices and solutions worldwide. The Productivity and Business Processes segment offers office, exchange, SharePoint, Microsoft Teams, office 365 Security and Compliance, Microsoft viva, and Microsoft 365 copilot; and office consumer services, such as Microsoft 365 consumer subscriptions, Office licensed on-premises, and other office services. This segment also provides LinkedIn; and dynamics business solutions, including Dynamics 365, a set of intelligent, cloud-based applications across ERP, CRM, power apps, and power automate; and on-premises ERP and CRM applications. The Intelligent Cloud segment offers server products and cloud services, such as azure and other cloud services; SQL and windows server, visual studio, system center, and related client access licenses, as well as nuance and GitHub; and enterprise services including enterprise support services, industry solutions, and nuance professional services. The More Personal Computing segment offers Windows, including windows OEM licensing and other non-volume licensing of the Windows operating system; Windows commercial comprising volume licensing of the Windows operating system, windows cloud services, and other Windows commercial offerings; patent licensing; and windows Internet of Things; and devices, such as surface, HoloLens, and PC accessories. Additionally, this segment provides gaming, which includes Xbox hardware and content, and first- and third-party content; Xbox game pass and other subscriptions, cloud gaming, advertising, third-party disc royalties, and other cloud services; and search and news advertising, which includes Bing, Microsoft News and Edge, and third-party affiliates. The company sells its products through OEMs, distributors, and resellers; and directly through digital marketplaces, online, and retail stores. The company was founded in 1975 and is headquartered in Redmond, Washington.",
                                    "sp500_companies_cleaned": "0.058400878543611257"
                                },
                                {
                                    "Exchange": "NMS",
                                    "Symbol": "AMZN",
                                    "Shortname": "Amazon.com, Inc.",
                                    "Longname": "Amazon.com, Inc.",
                                    "Sector": "Consumer Cyclical",
                                    "Industry": "Internet Retail",
                                    "Currentprice": "224.92",
                                    "Marketcap": "2365033807872",
                                    "Ebitda": "111583002624",
                                    "Revenuegrowth": "0.11",
                                    "City": "Seattle",
                                    "State": "WA",
                                    "Country": "United States",
                                    "Fulltimeemployees": "1551000",
                                    "Longbusinesssummary": "Amazon.com, Inc. engages in the retail sale of consumer products, advertising, and subscriptions service through online and physical stores in North America and internationally. The company operates through three segments: North America, International, and Amazon Web Services (AWS). It also manufactures and sells electronic devices, including Kindle, Fire tablets, Fire TVs, Echo, Ring, Blink, and eero; and develops and produces media content. In addition, the company offers programs that enable sellers to sell their products in its stores; and programs that allow authors, independent publishers, musicians, filmmakers, Twitch streamers, skill and app developers, and others to publish and sell content. Further, it provides compute, storage, database, analytics, machine learning, and other services, as well as advertising services through programs, such as sponsored ads, display, and video advertising. Additionally, the company offers Amazon Prime, a membership program. The company's products offered through its stores include merchandise and content purchased for resale and products offered by third-party sellers. It serves consumers, sellers, developers, enterprises, content creators, advertisers, and employees. Amazon.com, Inc. was incorporated in 1994 and is headquartered in Seattle, Washington.",
                                    "sp500_companies_cleaned": "0.04254994866835228"
                                },
                                {
                                    "Exchange": "NMS",
                                    "Symbol": "GOOGL",
                                    "Shortname": "Alphabet Inc.",
                                    "Longname": "Alphabet Inc.",
                                    "Sector": "Communication Services",
                                    "Industry": "Internet Content & Information",
                                    "Currentprice": "191.41",
                                    "Marketcap": "2351625142272",
                                    "Ebitda": "123469996032",
                                    "Revenuegrowth": "0.151",
                                    "City": "Mountain View",
                                    "State": "CA",
                                    "Country": "United States",
                                    "Fulltimeemployees": "181269",
                                    "Longbusinesssummary": "Alphabet Inc. offers various products and platforms in the United States, Europe, the Middle East, Africa, the Asia-Pacific, Canada, and Latin America. It operates through Google Services, Google Cloud, and Other Bets segments. The Google Services segment provides products and services, including ads, Android, Chrome, devices, Gmail, Google Drive, Google Maps, Google Photos, Google Play, Search, and YouTube. It is also involved in the sale of apps and in-app purchases and digital content in the Google Play and YouTube; and devices, as well as in the provision of YouTube consumer subscription services. The Google Cloud segment offers infrastructure, cybersecurity, databases, analytics, AI, and other services; Google Workspace that include cloud-based communication and collaboration tools for enterprises, such as Gmail, Docs, Drive, Calendar, and Meet; and other services for enterprise customers. The Other Bets segment sells healthcare-related and internet services. The company was incorporated in 1998 and is headquartered in Mountain View, California.",
                                    "sp500_companies_cleaned": "0.042308709819633895"
                                },
                                {
                                    "Exchange": "NMS",
                                    "Symbol": "GOOG",
                                    "Shortname": "Alphabet Inc.",
                                    "Longname": "Alphabet Inc.",
                                    "Sector": "Communication Services",
                                    "Industry": "Internet Content & Information",
                                    "Currentprice": "192.96",
                                    "Marketcap": "2351623045120",
                                    "Ebitda": "123469996032",
                                    "Revenuegrowth": "0.151",
                                    "City": "Mountain View",
                                    "State": "CA",
                                    "Country": "United States",
                                    "Fulltimeemployees": "181269",
                                    "Longbusinesssummary": "Alphabet Inc. offers various products and platforms in the United States, Europe, the Middle East, Africa, the Asia-Pacific, Canada, and Latin America. It operates through Google Services, Google Cloud, and Other Bets segments. The Google Services segment provides products and services, including ads, Android, Chrome, devices, Gmail, Google Drive, Google Maps, Google Photos, Google Play, Search, and YouTube. It is also involved in the sale of apps and in-app purchases and digital content in the Google Play and YouTube; and devices, as well as in the provision of YouTube consumer subscription services. The Google Cloud segment offers infrastructure, cybersecurity, databases, analytics, AI, and other services; Google Workspace that include cloud-based communication and collaboration tools for enterprises, such as Gmail, Docs, Drive, Calendar, and Meet; and other services for enterprise customers. The Other Bets segment sells healthcare-related and internet services. The company was incorporated in 1998 and is headquartered in Mountain View, California.",
                                    "sp500_companies_cleaned": "0.042308672089217673"
                                },
                                {
                                    "Exchange": "NMS",
                                    "Symbol": "META",
                                    "Shortname": "Meta Platforms, Inc.",
                                    "Longname": "Meta Platforms, Inc.",
                                    "Sector": "Communication Services",
                                    "Industry": "Internet Content & Information",
                                    "Currentprice": "585.25",
                                    "Marketcap": "1477457739776",
                                    "Ebitda": "79208996864",
                                    "Revenuegrowth": "0.189",
                                    "City": "Menlo Park",
                                    "State": "CA",
                                    "Country": "United States",
                                    "Fulltimeemployees": "72404",
                                    "Longbusinesssummary": "Meta Platforms, Inc. engages in the development of products that enable people to connect and share with friends and family through mobile devices, personal computers, virtual reality headsets, and wearables worldwide. It operates in two segments, Family of Apps and Reality Labs. The Family of Apps segment offers Facebook, which enables people to share, discuss, discover, and connect with interests; Instagram, a community for sharing photos, videos, and private messages, as well as feed, stories, reels, video, live, and shops; Messenger, a messaging application for people to connect with friends, family, communities, and businesses across platforms and devices through text, audio, and video calls; and WhatsApp, a messaging application that is used by people and businesses to communicate and transact privately. The Reality Labs segment provides augmented and virtual reality related products comprising consumer hardware, software, and content that help people feel connected, anytime, and anywhere. The company was formerly known as Facebook, Inc. and changed its name to Meta Platforms, Inc. in October 2021. The company was incorporated in 2004 and is headquartered in Menlo Park, California",
                                    "sp500_companies_cleaned": "0.026581332908595358"
                                },
                                {
                                    "Exchange": "NMS",
                                    "Symbol": "TSLA",
                                    "Shortname": "Tesla, Inc.",
                                    "Longname": "Tesla, Inc.",
                                    "Sector": "Consumer Cyclical",
                                    "Industry": "Auto Manufacturers",
                                    "Currentprice": "421.06",
                                    "Marketcap": "1351627833344",
                                    "Ebitda": "13244000256",
                                    "Revenuegrowth": "0.078",
                                    "City": "Austin",
                                    "State": "TX",
                                    "Country": "United States",
                                    "Fulltimeemployees": "140473",
                                    "Longbusinesssummary": "Tesla, Inc. designs, develops, manufactures, leases, and sells electric vehicles, and energy generation and storage systems in the United States, China, and internationally. The company operates in two segments, Automotive, and Energy Generation and Storage. The Automotive segment offers electric vehicles, as well as sells automotive regulatory credits; and non-warranty after-sales vehicle, used vehicles, body shop and parts, supercharging, retail merchandise, and vehicle insurance services. This segment also provides sedans and sport utility vehicles through direct and used vehicle sales, a network of Tesla Superchargers, and in-app upgrades; purchase financing and leasing services; services for electric vehicles through its company-owned service locations and Tesla mobile service technicians; and vehicle limited warranties and extended service plans. The Energy Generation and Storage segment engages in the design, manufacture, installation, sale, and leasing of solar energy generation and energy storage products, and related services to residential, commercial, and industrial customers and utilities through its website, stores, and galleries, as well as through a network of channel partners; and provision of service and repairs to its energy product customers, including under warranty, as well as various financing options to its solar customers. The company was formerly known as Tesla Motors, Inc. and changed its name to Tesla, Inc. in February 2017. Tesla, Inc. was incorporated in 2003 and is headquartered in Austin, Texas.",
                                    "sp500_companies_cleaned": "0.02431749378637891"
                                },
                                {
                                    "Exchange": "NMS",
                                    "Symbol": "AVGO",
                                    "Shortname": "Broadcom Inc.",
                                    "Longname": "Broadcom Inc.",
                                    "Sector": "Technology",
                                    "Industry": "Semiconductors",
                                    "Currentprice": "220.79",
                                    "Marketcap": "1031217348608",
                                    "Ebitda": "22958000128",
                                    "Revenuegrowth": "0.164",
                                    "City": "Palo Alto",
                                    "State": "CA",
                                    "Country": "United States",
                                    "Fulltimeemployees": "20000",
                                    "Longbusinesssummary": "Broadcom Inc. designs, develops, and supplies various semiconductor devices with a focus on complex digital and mixed signal complementary metal oxide semiconductor based devices and analog III-V based products worldwide. The company operates in two segments, Semiconductor Solutions and Infrastructure Software. It provides set-top box system-on-chips (SoCs); cable, digital subscriber line, and passive optical networking central office/consumer premise equipment SoCs; wireless local area network access point SoCs; Ethernet switching and routing custom silicon solutions; serializer/deserializer application specific integrated circuits; optical and copper, and physical layer devices; and fiber optic components and RF semiconductor devices. The company also offers RF front end modules and filter; Wi-Fi, Bluetooth, and global positioning system/global navigation satellite system SoCs; custom touch controllers; inductive charging; attached small computer system interface, and redundant array of independent disks controllers and adapters; peripheral component interconnect express; fiber channel host bus adapters; read channel based SoCs; custom flash controllers; preamplifiers; optocouplers, industrial fiber optics, and motion control encoders and subsystems; light emitting diode, ethernet PHYs, switch ICs, and camera microcontrollers. Its products are used in various applications, including enterprise and data center networking, home connectivity, set-top boxes, broadband access, telecommunication equipment, smartphones and base stations, data center servers and storage systems, factory automation, power generation and alternative energy systems, and electronic displays. Broadcom Inc. was founded in 1961 and is headquartered in Palo Alto, California.",
                                    "sp500_companies_cleaned": "0.018552904023247482"
                                },
                                {
                                    "Exchange": "NYQ",
                                    "Symbol": "BRK-B",
                                    "Shortname": "Berkshire Hathaway Inc. New",
                                    "Longname": "Berkshire Hathaway Inc.",
                                    "Sector": "Financial Services",
                                    "Industry": "Insurance - Diversified",
                                    "Currentprice": "453.2",
                                    "Marketcap": "978776031232",
                                    "Ebitda": "149547008000",
                                    "Revenuegrowth": "-0.002",
                                    "City": "Omaha",
                                    "State": "NE",
                                    "Country": "United States",
                                    "Fulltimeemployees": "396500",
                                    "Longbusinesssummary": "Berkshire Hathaway Inc., through its subsidiaries, engages in the insurance, freight rail transportation, and utility businesses worldwide. The company provides property, casualty, life, accident, and health insurance and reinsurance; and operates railroad systems in North America. It also generates, transmits, stores, and distributes electricity from natural gas, coal, wind, solar, hydroelectric, nuclear, and geothermal sources; operates natural gas distribution and storage facilities, interstate pipelines, liquefied natural gas facilities, and compressor and meter stations; and holds interest in coal mining assets. In addition, the company manufactures boxed chocolates and other confectionery products; specialty chemicals, metal cutting tools, and components for aerospace and power generation applications; flooring products; insulation, roofing, and engineered products; building and engineered components; paints and coatings; and bricks and masonry products, as well as offers manufactured and site-built home construction, and related lending and financial services. Further, it provides recreational vehicles, apparel and footwear products, jewelry, and custom picture framing products, as well as alkaline batteries; castings, forgings, fasteners/fastener systems, aerostructures, and precision components; and cobalt, nickel, and titanium alloys. Additionally, the company distributes televisions and information; franchises and services quick service restaurants; distributes electronic components; and offers logistics services, grocery and foodservice distribution services, and professional aviation training and shared aircraft ownership programs. It also retails automobiles; furniture, bedding, and accessories; household appliances, electronics, and computers; jewelry, watches, crystal, china, stemware, flatware, gifts, and collectibles; kitchenware; and motorcycle clothing and equipment. The company was incorporated in 1998 and is headquartered in Omaha, Nebraska.",
                                    "sp500_companies_cleaned": "0.01760941841427967"
                                }
                            ]
                        },
                        "text/html": [
                            "<table>",
                            "<tr><th>Exchange</th><th>Symbol</th><th>Shortname</th><th>Longname</th><th>Sector</th><th>Industry</th><th>Currentprice</th><th>Marketcap</th><th>Ebitda</th><th>Revenuegrowth</th><th>City</th><th>State</th><th>Country</th><th>Fulltimeemployees</th><th>Longbusinesssummary</th><th>sp500_companies_cleaned</th></tr>",
                            "<tr><td>NMS</td><td>AAPL</td><td>Apple Inc.</td><td>Apple Inc.</td><td>Technology</td><td>Consumer Electronics</td><td>254.49</td><td>3846819807232</td><td>134660997120</td><td>0.061</td><td>Cupertino</td><td>CA</td><td>United States</td><td>164000</td><td>Apple Inc. designs, manufactures, and markets smartphones, personal computers, tablets, wearables, and accessories worldwide. The company offers iPhone, a line of smartphones; Mac, a line of personal computers; iPad, a line of multi-purpose tablets; and wearables, home, and accessories comprising AirPods, Apple TV, Apple Watch, Beats products, and HomePod. It also provides AppleCare support and cloud services; and operates various platforms, including the App Store that allow customers to discover and download applications and digital content, such as books, music, video, games, and podcasts, as well as advertising services include third-party licensing arrangements and its own advertising platforms. In addition, the company offers various subscription-based services, such as Apple Arcade, a game subscription service; Apple Fitness+, a personalized fitness service; Apple Music, which offers users a curated listening experience with on-demand radio stations; Apple News+, a subscription news and magazine service; Apple TV+, which offers exclusive original content; Apple Card, a co-branded credit card; and Apple Pay, a cashless payment service, as well as licenses its intellectual property. The company serves consumers, and small and mid-sized businesses; and the education, enterprise, and government markets. It distributes third-party applications for its products through the App Store. The company also sells its products through its retail and online stores, and direct sales force; and third-party cellular network carriers, wholesalers, retailers, and resellers. Apple Inc. was founded in 1976 and is headquartered in Cupertino, California.</td><td>0.06920915243972749</td></tr>",
                            "<tr><td>NMS</td><td>NVDA</td><td>NVIDIA Corporation</td><td>NVIDIA Corporation</td><td>Technology</td><td>Semiconductors</td><td>134.7</td><td>3298803056640</td><td>61184000000</td><td>1.224</td><td>Santa Clara</td><td>CA</td><td>United States</td><td>29600</td><td>NVIDIA Corporation provides graphics and compute and networking solutions in the United States, Taiwan, China, Hong Kong, and internationally. The Graphics segment offers GeForce GPUs for gaming and PCs, the GeForce NOW game streaming service and related infrastructure, and solutions for gaming platforms; Quadro/NVIDIA RTX GPUs for enterprise workstation graphics; virtual GPU or vGPU software for cloud-based visual and virtual computing; automotive platforms for infotainment systems; and Omniverse software for building and operating metaverse and 3D internet applications. The Compute &amp; Networking segment comprises Data Center computing platforms and end-to-end networking platforms, including Quantum for InfiniBand and Spectrum for Ethernet; NVIDIA DRIVE automated-driving platform and automotive development agreements; Jetson robotics and other embedded platforms; NVIDIA AI Enterprise and other software; and DGX Cloud software and services. The company&#39;s products are used in gaming, professional visualization, data center, and automotive markets. It sells its products to original equipment manufacturers, original device manufacturers, system integrators and distributors, independent software vendors, cloud service providers, consumer internet companies, add-in board manufacturers, distributors, automotive manufacturers and tier-1 automotive suppliers, and other ecosystem participants. NVIDIA Corporation was incorporated in 1993 and is headquartered in Santa Clara, California.</td><td>0.059349638157321576</td></tr>",
                            "<tr><td>NMS</td><td>MSFT</td><td>Microsoft Corporation</td><td>Microsoft Corporation</td><td>Technology</td><td>Software - Infrastructure</td><td>436.6</td><td>3246068596736</td><td>136551997440</td><td>0.16</td><td>Redmond</td><td>WA</td><td>United States</td><td>228000</td><td>Microsoft Corporation develops and supports software, services, devices and solutions worldwide. The Productivity and Business Processes segment offers office, exchange, SharePoint, Microsoft Teams, office 365 Security and Compliance, Microsoft viva, and Microsoft 365 copilot; and office consumer services, such as Microsoft 365 consumer subscriptions, Office licensed on-premises, and other office services. This segment also provides LinkedIn; and dynamics business solutions, including Dynamics 365, a set of intelligent, cloud-based applications across ERP, CRM, power apps, and power automate; and on-premises ERP and CRM applications. The Intelligent Cloud segment offers server products and cloud services, such as azure and other cloud services; SQL and windows server, visual studio, system center, and related client access licenses, as well as nuance and GitHub; and enterprise services including enterprise support services, industry solutions, and nuance professional services. The More Personal Computing segment offers Windows, including windows OEM licensing and other non-volume licensing of the Windows operating system; Windows commercial comprising volume licensing of the Windows operating system, windows cloud services, and other Windows commercial offerings; patent licensing; and windows Internet of Things; and devices, such as surface, HoloLens, and PC accessories. Additionally, this segment provides gaming, which includes Xbox hardware and content, and first- and third-party content; Xbox game pass and other subscriptions, cloud gaming, advertising, third-party disc royalties, and other cloud services; and search and news advertising, which includes Bing, Microsoft News and Edge, and third-party affiliates. The company sells its products through OEMs, distributors, and resellers; and directly through digital marketplaces, online, and retail stores. The company was founded in 1975 and is headquartered in Redmond, Washington.</td><td>0.058400878543611257</td></tr>",
                            "<tr><td>NMS</td><td>AMZN</td><td>Amazon.com, Inc.</td><td>Amazon.com, Inc.</td><td>Consumer Cyclical</td><td>Internet Retail</td><td>224.92</td><td>2365033807872</td><td>111583002624</td><td>0.11</td><td>Seattle</td><td>WA</td><td>United States</td><td>1551000</td><td>Amazon.com, Inc. engages in the retail sale of consumer products, advertising, and subscriptions service through online and physical stores in North America and internationally. The company operates through three segments: North America, International, and Amazon Web Services (AWS). It also manufactures and sells electronic devices, including Kindle, Fire tablets, Fire TVs, Echo, Ring, Blink, and eero; and develops and produces media content. In addition, the company offers programs that enable sellers to sell their products in its stores; and programs that allow authors, independent publishers, musicians, filmmakers, Twitch streamers, skill and app developers, and others to publish and sell content. Further, it provides compute, storage, database, analytics, machine learning, and other services, as well as advertising services through programs, such as sponsored ads, display, and video advertising. Additionally, the company offers Amazon Prime, a membership program. The company&#39;s products offered through its stores include merchandise and content purchased for resale and products offered by third-party sellers. It serves consumers, sellers, developers, enterprises, content creators, advertisers, and employees. Amazon.com, Inc. was incorporated in 1994 and is headquartered in Seattle, Washington.</td><td>0.04254994866835228</td></tr>",
                            "<tr><td>NMS</td><td>GOOGL</td><td>Alphabet Inc.</td><td>Alphabet Inc.</td><td>Communication Services</td><td>Internet Content &amp; Information</td><td>191.41</td><td>2351625142272</td><td>123469996032</td><td>0.151</td><td>Mountain View</td><td>CA</td><td>United States</td><td>181269</td><td>Alphabet Inc. offers various products and platforms in the United States, Europe, the Middle East, Africa, the Asia-Pacific, Canada, and Latin America. It operates through Google Services, Google Cloud, and Other Bets segments. The Google Services segment provides products and services, including ads, Android, Chrome, devices, Gmail, Google Drive, Google Maps, Google Photos, Google Play, Search, and YouTube. It is also involved in the sale of apps and in-app purchases and digital content in the Google Play and YouTube; and devices, as well as in the provision of YouTube consumer subscription services. The Google Cloud segment offers infrastructure, cybersecurity, databases, analytics, AI, and other services; Google Workspace that include cloud-based communication and collaboration tools for enterprises, such as Gmail, Docs, Drive, Calendar, and Meet; and other services for enterprise customers. The Other Bets segment sells healthcare-related and internet services. The company was incorporated in 1998 and is headquartered in Mountain View, California.</td><td>0.042308709819633895</td></tr>",
                            "<tr><td>NMS</td><td>GOOG</td><td>Alphabet Inc.</td><td>Alphabet Inc.</td><td>Communication Services</td><td>Internet Content &amp; Information</td><td>192.96</td><td>2351623045120</td><td>123469996032</td><td>0.151</td><td>Mountain View</td><td>CA</td><td>United States</td><td>181269</td><td>Alphabet Inc. offers various products and platforms in the United States, Europe, the Middle East, Africa, the Asia-Pacific, Canada, and Latin America. It operates through Google Services, Google Cloud, and Other Bets segments. The Google Services segment provides products and services, including ads, Android, Chrome, devices, Gmail, Google Drive, Google Maps, Google Photos, Google Play, Search, and YouTube. It is also involved in the sale of apps and in-app purchases and digital content in the Google Play and YouTube; and devices, as well as in the provision of YouTube consumer subscription services. The Google Cloud segment offers infrastructure, cybersecurity, databases, analytics, AI, and other services; Google Workspace that include cloud-based communication and collaboration tools for enterprises, such as Gmail, Docs, Drive, Calendar, and Meet; and other services for enterprise customers. The Other Bets segment sells healthcare-related and internet services. The company was incorporated in 1998 and is headquartered in Mountain View, California.</td><td>0.042308672089217673</td></tr>",
                            "<tr><td>NMS</td><td>META</td><td>Meta Platforms, Inc.</td><td>Meta Platforms, Inc.</td><td>Communication Services</td><td>Internet Content &amp; Information</td><td>585.25</td><td>1477457739776</td><td>79208996864</td><td>0.189</td><td>Menlo Park</td><td>CA</td><td>United States</td><td>72404</td><td>Meta Platforms, Inc. engages in the development of products that enable people to connect and share with friends and family through mobile devices, personal computers, virtual reality headsets, and wearables worldwide. It operates in two segments, Family of Apps and Reality Labs. The Family of Apps segment offers Facebook, which enables people to share, discuss, discover, and connect with interests; Instagram, a community for sharing photos, videos, and private messages, as well as feed, stories, reels, video, live, and shops; Messenger, a messaging application for people to connect with friends, family, communities, and businesses across platforms and devices through text, audio, and video calls; and WhatsApp, a messaging application that is used by people and businesses to communicate and transact privately. The Reality Labs segment provides augmented and virtual reality related products comprising consumer hardware, software, and content that help people feel connected, anytime, and anywhere. The company was formerly known as Facebook, Inc. and changed its name to Meta Platforms, Inc. in October 2021. The company was incorporated in 2004 and is headquartered in Menlo Park, California</td><td>0.026581332908595358</td></tr>",
                            "<tr><td>NMS</td><td>TSLA</td><td>Tesla, Inc.</td><td>Tesla, Inc.</td><td>Consumer Cyclical</td><td>Auto Manufacturers</td><td>421.06</td><td>1351627833344</td><td>13244000256</td><td>0.078</td><td>Austin</td><td>TX</td><td>United States</td><td>140473</td><td>Tesla, Inc. designs, develops, manufactures, leases, and sells electric vehicles, and energy generation and storage systems in the United States, China, and internationally. The company operates in two segments, Automotive, and Energy Generation and Storage. The Automotive segment offers electric vehicles, as well as sells automotive regulatory credits; and non-warranty after-sales vehicle, used vehicles, body shop and parts, supercharging, retail merchandise, and vehicle insurance services. This segment also provides sedans and sport utility vehicles through direct and used vehicle sales, a network of Tesla Superchargers, and in-app upgrades; purchase financing and leasing services; services for electric vehicles through its company-owned service locations and Tesla mobile service technicians; and vehicle limited warranties and extended service plans. The Energy Generation and Storage segment engages in the design, manufacture, installation, sale, and leasing of solar energy generation and energy storage products, and related services to residential, commercial, and industrial customers and utilities through its website, stores, and galleries, as well as through a network of channel partners; and provision of service and repairs to its energy product customers, including under warranty, as well as various financing options to its solar customers. The company was formerly known as Tesla Motors, Inc. and changed its name to Tesla, Inc. in February 2017. Tesla, Inc. was incorporated in 2003 and is headquartered in Austin, Texas.</td><td>0.02431749378637891</td></tr>",
                            "<tr><td>NMS</td><td>AVGO</td><td>Broadcom Inc.</td><td>Broadcom Inc.</td><td>Technology</td><td>Semiconductors</td><td>220.79</td><td>1031217348608</td><td>22958000128</td><td>0.164</td><td>Palo Alto</td><td>CA</td><td>United States</td><td>20000</td><td>Broadcom Inc. designs, develops, and supplies various semiconductor devices with a focus on complex digital and mixed signal complementary metal oxide semiconductor based devices and analog III-V based products worldwide. The company operates in two segments, Semiconductor Solutions and Infrastructure Software. It provides set-top box system-on-chips (SoCs); cable, digital subscriber line, and passive optical networking central office/consumer premise equipment SoCs; wireless local area network access point SoCs; Ethernet switching and routing custom silicon solutions; serializer/deserializer application specific integrated circuits; optical and copper, and physical layer devices; and fiber optic components and RF semiconductor devices. The company also offers RF front end modules and filter; Wi-Fi, Bluetooth, and global positioning system/global navigation satellite system SoCs; custom touch controllers; inductive charging; attached small computer system interface, and redundant array of independent disks controllers and adapters; peripheral component interconnect express; fiber channel host bus adapters; read channel based SoCs; custom flash controllers; preamplifiers; optocouplers, industrial fiber optics, and motion control encoders and subsystems; light emitting diode, ethernet PHYs, switch ICs, and camera microcontrollers. Its products are used in various applications, including enterprise and data center networking, home connectivity, set-top boxes, broadband access, telecommunication equipment, smartphones and base stations, data center servers and storage systems, factory automation, power generation and alternative energy systems, and electronic displays. Broadcom Inc. was founded in 1961 and is headquartered in Palo Alto, California.</td><td>0.018552904023247482</td></tr>",
                            "<tr><td>NYQ</td><td>BRK-B</td><td>Berkshire Hathaway Inc. New</td><td>Berkshire Hathaway Inc.</td><td>Financial Services</td><td>Insurance - Diversified</td><td>453.2</td><td>978776031232</td><td>149547008000</td><td>-0.002</td><td>Omaha</td><td>NE</td><td>United States</td><td>396500</td><td>Berkshire Hathaway Inc., through its subsidiaries, engages in the insurance, freight rail transportation, and utility businesses worldwide. The company provides property, casualty, life, accident, and health insurance and reinsurance; and operates railroad systems in North America. It also generates, transmits, stores, and distributes electricity from natural gas, coal, wind, solar, hydroelectric, nuclear, and geothermal sources; operates natural gas distribution and storage facilities, interstate pipelines, liquefied natural gas facilities, and compressor and meter stations; and holds interest in coal mining assets. In addition, the company manufactures boxed chocolates and other confectionery products; specialty chemicals, metal cutting tools, and components for aerospace and power generation applications; flooring products; insulation, roofing, and engineered products; building and engineered components; paints and coatings; and bricks and masonry products, as well as offers manufactured and site-built home construction, and related lending and financial services. Further, it provides recreational vehicles, apparel and footwear products, jewelry, and custom picture framing products, as well as alkaline batteries; castings, forgings, fasteners/fastener systems, aerostructures, and precision components; and cobalt, nickel, and titanium alloys. Additionally, the company distributes televisions and information; franchises and services quick service restaurants; distributes electronic components; and offers logistics services, grocery and foodservice distribution services, and professional aviation training and shared aircraft ownership programs. It also retails automobiles; furniture, bedding, and accessories; household appliances, electronics, and computers; jewelry, watches, crystal, china, stemware, flatware, gifts, and collectibles; kitchenware; and motorcycle clothing and equipment. The company was incorporated in 1998 and is headquartered in Omaha, Nebraska.</td><td>0.01760941841427967</td></tr>",
                            "</table>"
                        ]
                    }
                }
            ],
            "execution_count": 1
        },
        {
            "cell_type": "code",
            "source": [
                ""
            ],
            "metadata": {
                "azdata_cell_guid": "ccfbd5e6-adf7-4a04-88a1-0c6f6dbf01b6",
                "language": "sql"
            },
            "outputs": [
                {
                    "output_type": "display_data",
                    "data": {
                        "text/html": "Commands completed successfully."
                    },
                    "metadata": {}
                },
                {
                    "output_type": "display_data",
                    "data": {
                        "text/html": "Total execution time: 00:00:00"
                    },
                    "metadata": {}
                }
            ],
            "execution_count": 2
        },
        {
            "cell_type": "markdown",
            "source": [
                "### **<u>Data Cleaning Steps</u>**\n",
                "\n",
                "- Handled missing values\n",
                "    \n",
                "- Ensured correct data types\n",
                "    \n",
                "- Standardized column names (optional for SQL use)\n",
                "    \n",
                "\n",
                "Then I wrote an SQL script assuming this data is in a table named `sp500_companies`.\n",
                "\n",
                "  \n",
                "\n",
                "**<u>Data Processing & Queries</u>**"
            ],
            "metadata": {
                "azdata_cell_guid": "4bbff197-cc41-4ba6-b3bc-91d2b9bd3253"
            },
            "attachments": {}
        },
        {
            "cell_type": "code",
            "source": [
                "SELECT COUNT(*) FROM sp500_companies; -- Total companies"
            ],
            "metadata": {
                "language": "sql",
                "azdata_cell_guid": "7d0739e6-10c6-427e-86cc-8ae7572fe33d"
            },
            "outputs": [
                {
                    "output_type": "display_data",
                    "data": {
                        "text/html": "(1 row affected)"
                    },
                    "metadata": {}
                },
                {
                    "output_type": "display_data",
                    "data": {
                        "text/html": "Total execution time: 00:00:00.010"
                    },
                    "metadata": {}
                },
                {
                    "output_type": "execute_result",
                    "metadata": {},
                    "execution_count": 3,
                    "data": {
                        "application/vnd.dataresource+json": {
                            "schema": {
                                "fields": [
                                    {
                                        "name": "(No column name)"
                                    }
                                ]
                            },
                            "data": [
                                {
                                    "(No column name)": "502"
                                }
                            ]
                        },
                        "text/html": [
                            "<table>",
                            "<tr><th>(No column name)</th></tr>",
                            "<tr><td>502</td></tr>",
                            "</table>"
                        ]
                    }
                }
            ],
            "execution_count": 3
        },
        {
            "cell_type": "markdown",
            "source": [
                "The total number of S&P 500 companies were 502 on the dataset collected for analysis."
            ],
            "metadata": {
                "language": "sql",
                "azdata_cell_guid": "70e5d73c-f61b-46a6-ba7e-17cb74c467f6"
            },
            "attachments": {}
        },
        {
            "cell_type": "code",
            "source": [
                "SELECT DISTINCT sector FROM sp500_companies; -- List of sectors"
            ],
            "metadata": {
                "language": "sql",
                "azdata_cell_guid": "08e71d45-2659-404a-9edf-451c33901f50"
            },
            "outputs": [
                {
                    "output_type": "display_data",
                    "data": {
                        "text/html": "(11 rows affected)"
                    },
                    "metadata": {}
                },
                {
                    "output_type": "display_data",
                    "data": {
                        "text/html": "Total execution time: 00:00:00.167"
                    },
                    "metadata": {}
                },
                {
                    "output_type": "execute_result",
                    "metadata": {},
                    "execution_count": 4,
                    "data": {
                        "application/vnd.dataresource+json": {
                            "schema": {
                                "fields": [
                                    {
                                        "name": "sector"
                                    }
                                ]
                            },
                            "data": [
                                {
                                    "sector": "Basic Materials"
                                },
                                {
                                    "sector": "Communication Services"
                                },
                                {
                                    "sector": "Consumer Cyclical"
                                },
                                {
                                    "sector": "Consumer Defensive"
                                },
                                {
                                    "sector": "Energy"
                                },
                                {
                                    "sector": "Financial Services"
                                },
                                {
                                    "sector": "Healthcare"
                                },
                                {
                                    "sector": "Industrials"
                                },
                                {
                                    "sector": "Real Estate"
                                },
                                {
                                    "sector": "Technology"
                                },
                                {
                                    "sector": "Utilities"
                                }
                            ]
                        },
                        "text/html": [
                            "<table>",
                            "<tr><th>sector</th></tr>",
                            "<tr><td>Basic Materials</td></tr>",
                            "<tr><td>Communication Services</td></tr>",
                            "<tr><td>Consumer Cyclical</td></tr>",
                            "<tr><td>Consumer Defensive</td></tr>",
                            "<tr><td>Energy</td></tr>",
                            "<tr><td>Financial Services</td></tr>",
                            "<tr><td>Healthcare</td></tr>",
                            "<tr><td>Industrials</td></tr>",
                            "<tr><td>Real Estate</td></tr>",
                            "<tr><td>Technology</td></tr>",
                            "<tr><td>Utilities</td></tr>",
                            "</table>"
                        ]
                    }
                }
            ],
            "execution_count": 4
        },
        {
            "cell_type": "markdown",
            "source": [
                "The code above shows the sectors each companies falls under."
            ],
            "metadata": {
                "azdata_cell_guid": "2b4a2429-2071-44f1-9da1-f53065e52226"
            },
            "attachments": {}
        },
        {
            "cell_type": "code",
            "source": [
                "SELECT sector, AVG(revenuegrowth) AS avg_growth\r\n",
                "FROM sp500_companies\r\n",
                "GROUP BY sector\r\n",
                "ORDER BY avg_growth DESC;"
            ],
            "metadata": {
                "azdata_cell_guid": "bedadda1-689f-4506-adaf-2ffaa08a0cb6",
                "language": "sql"
            },
            "outputs": [
                {
                    "output_type": "display_data",
                    "data": {
                        "text/html": "Warning: Null value is eliminated by an aggregate or other SET operation."
                    },
                    "metadata": {}
                },
                {
                    "output_type": "display_data",
                    "data": {
                        "text/html": "(11 rows affected)"
                    },
                    "metadata": {}
                },
                {
                    "output_type": "display_data",
                    "data": {
                        "text/html": "Total execution time: 00:00:00.084"
                    },
                    "metadata": {}
                },
                {
                    "output_type": "execute_result",
                    "metadata": {},
                    "execution_count": 5,
                    "data": {
                        "application/vnd.dataresource+json": {
                            "schema": {
                                "fields": [
                                    {
                                        "name": "sector"
                                    },
                                    {
                                        "name": "avg_growth"
                                    }
                                ]
                            },
                            "data": [
                                {
                                    "sector": "Financial Services",
                                    "avg_growth": "0.12295522388059701"
                                },
                                {
                                    "sector": "Technology",
                                    "avg_growth": "0.11582716049382716"
                                },
                                {
                                    "sector": "Real Estate",
                                    "avg_growth": "0.08126666666666665"
                                },
                                {
                                    "sector": "Healthcare",
                                    "avg_growth": "0.07709677419354836"
                                },
                                {
                                    "sector": "Consumer Cyclical",
                                    "avg_growth": "0.06743636363636363"
                                },
                                {
                                    "sector": "Communication Services",
                                    "avg_growth": "0.05247619047619047"
                                },
                                {
                                    "sector": "Industrials",
                                    "avg_growth": "0.045142857142857144"
                                },
                                {
                                    "sector": "Utilities",
                                    "avg_growth": "0.044156249999999994"
                                },
                                {
                                    "sector": "Basic Materials",
                                    "avg_growth": "0.0194090909090909"
                                },
                                {
                                    "sector": "Consumer Defensive",
                                    "avg_growth": "0.010297297297297298"
                                },
                                {
                                    "sector": "Energy",
                                    "avg_growth": "0.007727272727272729"
                                }
                            ]
                        },
                        "text/html": [
                            "<table>",
                            "<tr><th>sector</th><th>avg_growth</th></tr>",
                            "<tr><td>Financial Services</td><td>0.12295522388059701</td></tr>",
                            "<tr><td>Technology</td><td>0.11582716049382716</td></tr>",
                            "<tr><td>Real Estate</td><td>0.08126666666666665</td></tr>",
                            "<tr><td>Healthcare</td><td>0.07709677419354836</td></tr>",
                            "<tr><td>Consumer Cyclical</td><td>0.06743636363636363</td></tr>",
                            "<tr><td>Communication Services</td><td>0.05247619047619047</td></tr>",
                            "<tr><td>Industrials</td><td>0.045142857142857144</td></tr>",
                            "<tr><td>Utilities</td><td>0.044156249999999994</td></tr>",
                            "<tr><td>Basic Materials</td><td>0.0194090909090909</td></tr>",
                            "<tr><td>Consumer Defensive</td><td>0.010297297297297298</td></tr>",
                            "<tr><td>Energy</td><td>0.007727272727272729</td></tr>",
                            "</table>"
                        ]
                    }
                }
            ],
            "execution_count": 5
        },
        {
            "cell_type": "markdown",
            "source": [
                "From Basic analysis, we can see that Financial Services lies as the biggest sector using Average groth rate."
            ],
            "metadata": {
                "language": "sql",
                "azdata_cell_guid": "3bf490d5-2b69-4620-b3e1-16f3b0183e09"
            },
            "attachments": {}
        },
        {
            "cell_type": "code",
            "source": [
                "SELECT SecSta = state, COUNT(*) AS company_count FROM sp500_companies GROUP BY state ORDER BY company_count DESC;"
            ],
            "metadata": {
                "language": "sql",
                "azdata_cell_guid": "abb2a258-515f-4de7-84e7-1b32f9d6a8be"
            },
            "outputs": [
                {
                    "output_type": "display_data",
                    "data": {
                        "text/html": "(42 rows affected)"
                    },
                    "metadata": {}
                },
                {
                    "output_type": "display_data",
                    "data": {
                        "text/html": "Total execution time: 00:00:00.041"
                    },
                    "metadata": {}
                },
                {
                    "output_type": "execute_result",
                    "metadata": {},
                    "execution_count": 6,
                    "data": {
                        "application/vnd.dataresource+json": {
                            "schema": {
                                "fields": [
                                    {
                                        "name": "SecSta"
                                    },
                                    {
                                        "name": "company_count"
                                    }
                                ]
                            },
                            "data": [
                                {
                                    "SecSta": "CA",
                                    "company_count": "67"
                                },
                                {
                                    "SecSta": "NY",
                                    "company_count": "49"
                                },
                                {
                                    "SecSta": "TX",
                                    "company_count": "48"
                                },
                                {
                                    "SecSta": "IL",
                                    "company_count": "32"
                                },
                                {
                                    "SecSta": "OH",
                                    "company_count": "22"
                                },
                                {
                                    "SecSta": "MA",
                                    "company_count": "22"
                                },
                                {
                                    "SecSta": "PA",
                                    "company_count": "20"
                                },
                                {
                                    "SecSta": "NULL",
                                    "company_count": "20"
                                },
                                {
                                    "SecSta": "FL",
                                    "company_count": "17"
                                },
                                {
                                    "SecSta": "GA",
                                    "company_count": "17"
                                },
                                {
                                    "SecSta": "VA",
                                    "company_count": "17"
                                },
                                {
                                    "SecSta": "MN",
                                    "company_count": "15"
                                },
                                {
                                    "SecSta": "NJ",
                                    "company_count": "15"
                                },
                                {
                                    "SecSta": "CT",
                                    "company_count": "14"
                                },
                                {
                                    "SecSta": "NC",
                                    "company_count": "13"
                                },
                                {
                                    "SecSta": "WA",
                                    "company_count": "12"
                                },
                                {
                                    "SecSta": "AZ",
                                    "company_count": "10"
                                },
                                {
                                    "SecSta": "MI",
                                    "company_count": "9"
                                },
                                {
                                    "SecSta": "TN",
                                    "company_count": "8"
                                },
                                {
                                    "SecSta": "CO",
                                    "company_count": "8"
                                },
                                {
                                    "SecSta": "IN",
                                    "company_count": "8"
                                },
                                {
                                    "SecSta": "MO",
                                    "company_count": "7"
                                },
                                {
                                    "SecSta": "MD",
                                    "company_count": "7"
                                },
                                {
                                    "SecSta": "WI",
                                    "company_count": "7"
                                },
                                {
                                    "SecSta": "NV",
                                    "company_count": "4"
                                },
                                {
                                    "SecSta": "RI",
                                    "company_count": "4"
                                },
                                {
                                    "SecSta": "OK",
                                    "company_count": "4"
                                },
                                {
                                    "SecSta": "KY",
                                    "company_count": "3"
                                },
                                {
                                    "SecSta": "AR",
                                    "company_count": "3"
                                },
                                {
                                    "SecSta": "DC",
                                    "company_count": "3"
                                },
                                {
                                    "SecSta": "DE",
                                    "company_count": "2"
                                },
                                {
                                    "SecSta": "AL",
                                    "company_count": "2"
                                },
                                {
                                    "SecSta": "ID",
                                    "company_count": "2"
                                },
                                {
                                    "SecSta": "LA",
                                    "company_count": "2"
                                },
                                {
                                    "SecSta": "NE",
                                    "company_count": "2"
                                },
                                {
                                    "SecSta": "NH",
                                    "company_count": "1"
                                },
                                {
                                    "SecSta": "ME",
                                    "company_count": "1"
                                },
                                {
                                    "SecSta": "MT",
                                    "company_count": "1"
                                },
                                {
                                    "SecSta": "OR",
                                    "company_count": "1"
                                },
                                {
                                    "SecSta": "IA",
                                    "company_count": "1"
                                },
                                {
                                    "SecSta": "BC",
                                    "company_count": "1"
                                },
                                {
                                    "SecSta": "UT",
                                    "company_count": "1"
                                }
                            ]
                        },
                        "text/html": [
                            "<table>",
                            "<tr><th>SecSta</th><th>company_count</th></tr>",
                            "<tr><td>CA</td><td>67</td></tr>",
                            "<tr><td>NY</td><td>49</td></tr>",
                            "<tr><td>TX</td><td>48</td></tr>",
                            "<tr><td>IL</td><td>32</td></tr>",
                            "<tr><td>OH</td><td>22</td></tr>",
                            "<tr><td>MA</td><td>22</td></tr>",
                            "<tr><td>PA</td><td>20</td></tr>",
                            "<tr><td>NULL</td><td>20</td></tr>",
                            "<tr><td>FL</td><td>17</td></tr>",
                            "<tr><td>GA</td><td>17</td></tr>",
                            "<tr><td>VA</td><td>17</td></tr>",
                            "<tr><td>MN</td><td>15</td></tr>",
                            "<tr><td>NJ</td><td>15</td></tr>",
                            "<tr><td>CT</td><td>14</td></tr>",
                            "<tr><td>NC</td><td>13</td></tr>",
                            "<tr><td>WA</td><td>12</td></tr>",
                            "<tr><td>AZ</td><td>10</td></tr>",
                            "<tr><td>MI</td><td>9</td></tr>",
                            "<tr><td>TN</td><td>8</td></tr>",
                            "<tr><td>CO</td><td>8</td></tr>",
                            "<tr><td>IN</td><td>8</td></tr>",
                            "<tr><td>MO</td><td>7</td></tr>",
                            "<tr><td>MD</td><td>7</td></tr>",
                            "<tr><td>WI</td><td>7</td></tr>",
                            "<tr><td>NV</td><td>4</td></tr>",
                            "<tr><td>RI</td><td>4</td></tr>",
                            "<tr><td>OK</td><td>4</td></tr>",
                            "<tr><td>KY</td><td>3</td></tr>",
                            "<tr><td>AR</td><td>3</td></tr>",
                            "<tr><td>DC</td><td>3</td></tr>",
                            "<tr><td>DE</td><td>2</td></tr>",
                            "<tr><td>AL</td><td>2</td></tr>",
                            "<tr><td>ID</td><td>2</td></tr>",
                            "<tr><td>LA</td><td>2</td></tr>",
                            "<tr><td>NE</td><td>2</td></tr>",
                            "<tr><td>NH</td><td>1</td></tr>",
                            "<tr><td>ME</td><td>1</td></tr>",
                            "<tr><td>MT</td><td>1</td></tr>",
                            "<tr><td>OR</td><td>1</td></tr>",
                            "<tr><td>IA</td><td>1</td></tr>",
                            "<tr><td>BC</td><td>1</td></tr>",
                            "<tr><td>UT</td><td>1</td></tr>",
                            "</table>"
                        ]
                    }
                }
            ],
            "execution_count": 6
        },
        {
            "cell_type": "markdown",
            "source": [
                "**Company Distribution by State**"
            ],
            "metadata": {
                "azdata_cell_guid": "f5a29c44-a3dd-40c1-8e70-08f57fee9252"
            },
            "attachments": {}
        },
        {
            "cell_type": "code",
            "source": [
                "SELECT sector, COUNT(*) AS company_count\r\n",
                "FROM sp500_companies\r\n",
                "GROUP BY sector\r\n",
                "ORDER BY company_count DESC;"
            ],
            "metadata": {
                "azdata_cell_guid": "596367a0-a526-46d8-bd3c-d1b21ae06903",
                "language": "sql"
            },
            "outputs": [
                {
                    "output_type": "display_data",
                    "data": {
                        "text/html": "(11 rows affected)"
                    },
                    "metadata": {}
                },
                {
                    "output_type": "display_data",
                    "data": {
                        "text/html": "Total execution time: 00:00:00.018"
                    },
                    "metadata": {}
                },
                {
                    "output_type": "execute_result",
                    "metadata": {},
                    "execution_count": 7,
                    "data": {
                        "application/vnd.dataresource+json": {
                            "schema": {
                                "fields": [
                                    {
                                        "name": "sector"
                                    },
                                    {
                                        "name": "company_count"
                                    }
                                ]
                            },
                            "data": [
                                {
                                    "sector": "Technology",
                                    "company_count": "82"
                                },
                                {
                                    "sector": "Industrials",
                                    "company_count": "70"
                                },
                                {
                                    "sector": "Financial Services",
                                    "company_count": "67"
                                },
                                {
                                    "sector": "Healthcare",
                                    "company_count": "62"
                                },
                                {
                                    "sector": "Consumer Cyclical",
                                    "company_count": "55"
                                },
                                {
                                    "sector": "Consumer Defensive",
                                    "company_count": "37"
                                },
                                {
                                    "sector": "Utilities",
                                    "company_count": "32"
                                },
                                {
                                    "sector": "Real Estate",
                                    "company_count": "31"
                                },
                                {
                                    "sector": "Energy",
                                    "company_count": "22"
                                },
                                {
                                    "sector": "Basic Materials",
                                    "company_count": "22"
                                },
                                {
                                    "sector": "Communication Services",
                                    "company_count": "22"
                                }
                            ]
                        },
                        "text/html": [
                            "<table>",
                            "<tr><th>sector</th><th>company_count</th></tr>",
                            "<tr><td>Technology</td><td>82</td></tr>",
                            "<tr><td>Industrials</td><td>70</td></tr>",
                            "<tr><td>Financial Services</td><td>67</td></tr>",
                            "<tr><td>Healthcare</td><td>62</td></tr>",
                            "<tr><td>Consumer Cyclical</td><td>55</td></tr>",
                            "<tr><td>Consumer Defensive</td><td>37</td></tr>",
                            "<tr><td>Utilities</td><td>32</td></tr>",
                            "<tr><td>Real Estate</td><td>31</td></tr>",
                            "<tr><td>Energy</td><td>22</td></tr>",
                            "<tr><td>Basic Materials</td><td>22</td></tr>",
                            "<tr><td>Communication Services</td><td>22</td></tr>",
                            "</table>"
                        ]
                    }
                }
            ],
            "execution_count": 7
        },
        {
            "cell_type": "markdown",
            "source": [
                "**<u>Sector distribution</u>**"
            ],
            "metadata": {
                "azdata_cell_guid": "d224ceaf-0f5a-44da-a0c9-ee69994f275b"
            },
            "attachments": {}
        },
        {
            "cell_type": "markdown",
            "source": [
                "We've done data cleaning and descriptive analysis. Now we create a python scriptfor the data analysis."
            ],
            "metadata": {
                "azdata_cell_guid": "e76c969d-079a-4071-b60c-4b4f7d609e36"
            },
            "attachments": {}
        }
    ]
}